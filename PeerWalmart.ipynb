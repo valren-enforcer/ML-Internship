{
  "cells": [
    {
      "cell_type": "markdown",
      "metadata": {
        "id": "view-in-github",
        "colab_type": "text"
      },
      "source": [
        "<a href=\"https://colab.research.google.com/github/valren-enforcer/ML-Internship/blob/main/RenzoWalmart.ipynb\" target=\"_parent\"><img src=\"https://colab.research.google.com/assets/colab-badge.svg\" alt=\"Open In Colab\"/></a>"
      ]
    },
    {
      "cell_type": "code",
      "execution_count": null,
      "id": "15e553bd-baae-411a-88b1-fdd39a08a63c",
      "metadata": {
        "id": "15e553bd-baae-411a-88b1-fdd39a08a63c"
      },
      "outputs": [],
      "source": [
        "import numpy as np\n",
        "import matplotlib.pyplot as plt\n",
        "import pandas as pd"
      ]
    },
    {
      "cell_type": "code",
      "execution_count": null,
      "id": "780a1938-86ba-4600-aa70-e0303b40f197",
      "metadata": {
        "id": "780a1938-86ba-4600-aa70-e0303b40f197"
      },
      "outputs": [],
      "source": [
        "#directory of the csv file ( you can change this later if yo ar running on some other device)\n",
        "dataset_directory = \"/home/renzo-rodriguez/Downloads/Walmart_Sales.csv\""
      ]
    },
    {
      "cell_type": "code",
      "execution_count": null,
      "id": "125ed835-2974-4e4f-8b58-84164cd2e561",
      "metadata": {
        "id": "125ed835-2974-4e4f-8b58-84164cd2e561"
      },
      "outputs": [],
      "source": [
        "#opening the dataset\n",
        "data = pd.read_csv(dataset_directory)"
      ]
    },
    {
      "cell_type": "code",
      "execution_count": null,
      "id": "d7eebd19-8618-4fbd-8b6b-44c62cfeb137",
      "metadata": {
        "id": "d7eebd19-8618-4fbd-8b6b-44c62cfeb137",
        "outputId": "1493752d-b071-4525-8d6d-c98ee58bcc32"
      },
      "outputs": [
        {
          "data": {
            "text/plain": [
              "(6435, 8)"
            ]
          },
          "execution_count": 74,
          "metadata": {},
          "output_type": "execute_result"
        }
      ],
      "source": [
        "#looking into the shape of the dataset\n",
        "data.shape"
      ]
    },
    {
      "cell_type": "code",
      "execution_count": null,
      "id": "5341fe91-dc43-400f-9dce-10cc46cb2859",
      "metadata": {
        "id": "5341fe91-dc43-400f-9dce-10cc46cb2859",
        "outputId": "d19a2114-1e2a-4798-9be6-234bd2d534df"
      },
      "outputs": [
        {
          "name": "stdout",
          "output_type": "stream",
          "text": [
            "<class 'pandas.core.frame.DataFrame'>\n",
            "RangeIndex: 6435 entries, 0 to 6434\n",
            "Data columns (total 11 columns):\n",
            " #   Column        Non-Null Count  Dtype  \n",
            "---  ------        --------------  -----  \n",
            " 0   Store         6435 non-null   int64  \n",
            " 1   Date          6435 non-null   object \n",
            " 2   Weekly_Sales  6435 non-null   float64\n",
            " 3   Holiday_Flag  6435 non-null   float64\n",
            " 4   Temperature   6435 non-null   float64\n",
            " 5   Fuel_Price    6435 non-null   float64\n",
            " 6   CPI           6435 non-null   float64\n",
            " 7   Unemployment  6435 non-null   float64\n",
            " 8   Day           6435 non-null   float64\n",
            " 9   Month         6435 non-null   float64\n",
            " 10  Year          6435 non-null   float64\n",
            "dtypes: float64(9), int64(1), object(1)\n",
            "memory usage: 553.1+ KB\n"
          ]
        }
      ],
      "source": [
        "data.info()"
      ]
    },
    {
      "cell_type": "markdown",
      "id": "c78c9beb-ae4d-4912-b31f-2801a882de2c",
      "metadata": {
        "id": "c78c9beb-ae4d-4912-b31f-2801a882de2c"
      },
      "source": [
        "# intializing weights and other constants\n",
        "# 8 weights:  holiday, temp, feul_price, CPI, Uneployment\n",
        "weights = np.random.randn(1,10)\n",
        "\n",
        "iterations= 100000\n",
        "\n",
        "J = np.zeros(iterations)\n",
        "\n",
        "learning_rate = .0000004\n",
        "\n",
        "data[['Day', 'Month', 'Year']] = data['Date'].str.split('-', expand=True)\n",
        "data[[\"Day\",\"Month\",\"Year\",\"Holiday_Flag\"]]=data[[\"Day\",\"Month\",\"Year\",\"Holiday_Flag\"]].astype(float)\n",
        "X = data.drop(['Date',\"Weekly_Sales\"], axis=1).values\n",
        "rows, colums = X.shape\n",
        "X = np.hstack(((np.ones((rows,1))), X))\n",
        "\n",
        "\n",
        "\n",
        "Y = data[\"Weekly_Sales\"]\n",
        "\n",
        "Y = np.array(Y).reshape(rows,1)\n",
        "\n",
        "\n",
        "\n",
        "\n",
        "\n"
      ]
    },
    {
      "cell_type": "code",
      "execution_count": null,
      "id": "2e24f065-af6d-4c7b-bc4f-da94e6db85ae",
      "metadata": {
        "id": "2e24f065-af6d-4c7b-bc4f-da94e6db85ae"
      },
      "outputs": [],
      "source": [
        "weights = np.random.randn(1,10)\n",
        "\n",
        "iterations= 100000\n",
        "\n",
        "\n",
        "J = np.zeros(iterations)\n",
        "\n",
        "learning_rate = .0000004\n",
        "\n",
        "data[['Day', 'Month', 'Year']] = data['Date'].str.split('-', expand=True)\n",
        "data[[\"Day\",\"Month\",\"Year\",\"Holiday_Flag\"]]=data[[\"Day\",\"Month\",\"Year\",\"Holiday_Flag\"]].astype(float)\n",
        "X = data.drop(['Date',\"Weekly_Sales\"], axis=1).values\n",
        "rows, colums = X.shape\n",
        "X = np.hstack(((np.ones((rows,1))), X))\n",
        "\n",
        "Y = data[\"Weekly_Sales\"]\n",
        "\n",
        "Y = np.array(Y).reshape(rows,1)"
      ]
    },
    {
      "cell_type": "code",
      "execution_count": null,
      "id": "bdd1f85a-2515-4af7-8916-1ca693806d1d",
      "metadata": {
        "id": "bdd1f85a-2515-4af7-8916-1ca693806d1d",
        "outputId": "487deeb7-d21e-454c-85c2-a4fd8756f5d6"
      },
      "outputs": [
        {
          "name": "stdout",
          "output_type": "stream",
          "text": [
            "y hat = [-1877.49642456]\n",
            "y hat = [1177652.37343241]\n",
            "y hat = [1257899.89320503]\n",
            "y hat = [1297425.39164583]\n",
            "y hat = [1316924.48052032]\n",
            "y hat = [1326245.73588919]\n",
            "y hat = [1330294.3551144]\n",
            "y hat = [1331586.64895172]\n",
            "y hat = [1331436.15994624]\n",
            "y hat = [1330536.03326944]\n",
            " final difference = [[-314435.94830752]\n",
            " [-313658.42721098]\n",
            " [-293110.15468056]\n",
            " ...\n",
            " [ -46340.46705536]\n",
            " [ -40122.52136901]\n",
            " [ -92963.50471887]]\n"
          ]
        },
        {
          "data": {
            "image/png": "[encoded data removed]",
            "text/plain": [
              "<Figure size 640x480 with 1 Axes>"
            ]
          },
          "metadata": {},
          "output_type": "display_data"
        }
      ],
      "source": [
        "for iter in range(iterations):\n",
        "    #print(f'iteration : {iter}')\n",
        "    #prediction\n",
        "    y_hat = np.dot(X,weights.T)\n",
        "    #print(y_hat)\n",
        "    #calculating error in guess\n",
        "\n",
        "    difference = y_hat -Y\n",
        "\n",
        "    if iter % 10000 == 0:\n",
        "        #print(f'difference at {iter} = {difference}')\n",
        "        print(f'y hat = {y_hat[0]}')\n",
        "    #print(f'difference = {difference}')\n",
        "    sum = np.sum(difference**2)\n",
        "    #print(sum)\n",
        "\n",
        "    #print(1/(2*rows)*sum)\n",
        "    J[iter] = 1/(2 * rows) * sum\n",
        "    #changing weights to be  better\n",
        "    weights -= ((learning_rate/rows) * np.dot(difference.reshape(1,rows), X))\n",
        "print(f' final difference = {difference}')\n",
        "\n",
        "ax = plt.subplot(111)\n",
        "ax.plot(np.arange(iterations), J)\n",
        "ax.set_ylim((0,(max(J)*1.05)))\n",
        "plt.ylabel(\"Cost Values\", color=\"Green\")\n",
        "plt.xlabel(\"No. of Iterations\", color=\"Green\")\n",
        "plt.title(\"Mean Squared Error vs Iterations\")\n",
        "plt.show()\n"
      ]
    },
    {
      "cell_type": "code",
      "execution_count": null,
      "id": "ad859602-b943-47e0-8f17-0e0d4e0dd012",
      "metadata": {
        "id": "ad859602-b943-47e0-8f17-0e0d4e0dd012",
        "outputId": "74db4fbf-8e4a-44c2-c4d5-bcbda1bd07dd"
      },
      "outputs": [
        {
          "data": {
            "text/plain": [
              "41.42624007301436"
            ]
          },
          "execution_count": 69,
          "metadata": {},
          "output_type": "execute_result"
        }
      ],
      "source": [
        "def percent_error(X,weights):\n",
        "    predictions = np.dot(X,weights.T)\n",
        "    percent = np.mean(np.abs((Y-predictions)/predictions)*100)\n",
        "    return percent\n",
        "\n",
        "percent_error(X,weights)\n"
      ]
    }
  ],
  "metadata": {
    "kernelspec": {
      "display_name": "Python 3 (ipykernel)",
      "language": "python",
      "name": "python3"
    },
    "language_info": {
      "codemirror_mode": {
        "name": "ipython",
        "version": 3
      },
      "file_extension": ".py",
      "mimetype": "text/x-python",
      "name": "python",
      "nbconvert_exporter": "python",
      "pygments_lexer": "ipython3",
      "version": "3.12.4"
    },
    "colab": {
      "provenance": [],
      "include_colab_link": true
    }
  },
  "nbformat": 4,
  "nbformat_minor": 5
}
