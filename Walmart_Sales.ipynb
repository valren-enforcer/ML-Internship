{
  "nbformat": 4,
  "nbformat_minor": 0,
  "metadata": {
    "colab": {
      "provenance": [],
      "gpuType": "T4",
      "collapsed_sections": [
        "s7LUM7PKD3-G"
      ],
      "authorship_tag": "ABX9TyNp8z/rtyAwync8pa1jUFYP",
      "include_colab_link": true
    },
    "kernelspec": {
      "name": "python3",
      "display_name": "Python 3"
    },
    "language_info": {
      "name": "python"
    },
    "accelerator": "GPU"
  },
  "cells": [
    {
      "cell_type": "markdown",
      "metadata": {
        "id": "view-in-github",
        "colab_type": "text"
      },
      "source": [
        "<a href=\"https://colab.research.google.com/github/valren-enforcer/ML-Internship/blob/main/Walmart_Sales.ipynb\" target=\"_parent\"><img src=\"https://colab.research.google.com/assets/colab-badge.svg\" alt=\"Open In Colab\"/></a>"
      ]
    },
    {
      "cell_type": "markdown",
      "source": [
        "Ask the diff between loss and error. https://www.analyticsvidhya.com/blog/2020/11/binary-cross-entropy-aka-log-loss-the-cost-function-used-in-logistic-regression/"
      ],
      "metadata": {
        "id": "zsf-7TReqOtD"
      }
    },
    {
      "cell_type": "markdown",
      "source": [
        "# **Following along with work from github**\n",
        "Review numpys as well"
      ],
      "metadata": {
        "id": "iv7_m61OEDDB"
      }
    },
    {
      "cell_type": "markdown",
      "source": [
        "Play around with number of iterations and the learning rate to see changes within the model.\n",
        "Also create a new variable for DATE (months + date)"
      ],
      "metadata": {
        "id": "ND9GAAFpBLC-"
      }
    },
    {
      "cell_type": "code",
      "execution_count": null,
      "metadata": {
        "id": "jO6J3YNMR9xa"
      },
      "outputs": [],
      "source": [
        "#import csv no need #regression #ETA = LEARNING_RATE\n",
        "import numpy as np\n",
        "import pandas as pd\n",
        "import matplotlib.pyplot as plt # data plotting (imported later in example code?)"
      ]
    },
    {
      "cell_type": "code",
      "source": [
        "#odd --> plt?"
      ],
      "metadata": {
        "id": "IbYVjN3QArGb"
      },
      "execution_count": null,
      "outputs": []
    },
    {
      "cell_type": "code",
      "source": [
        "df = pd.read_csv('Walmart.csv') #variable walmart can also be called df for data frame #single quote works too\n",
        "#walmart no need #ws = target var"
      ],
      "metadata": {
        "id": "IuOzL-mVSI8D"
      },
      "execution_count": null,
      "outputs": []
    },
    {
      "cell_type": "code",
      "source": [
        "df.head()"
      ],
      "metadata": {
        "colab": {
          "base_uri": "https://localhost:8080/",
          "height": 206
        },
        "id": "bNRGgN8pSdHw",
        "outputId": "8256eb7e-389b-4178-fb05-a704cd33bfa0"
      },
      "execution_count": null,
      "outputs": [
        {
          "output_type": "execute_result",
          "data": {
            "text/plain": [
              "   Store        Date  Weekly_Sales  Holiday_Flag  Temperature  Fuel_Price  \\\n",
              "0      1  05-02-2010    1643690.90             0        42.31       2.572   \n",
              "1      1  12-02-2010    1641957.44             1        38.51       2.548   \n",
              "2      1  19-02-2010    1611968.17             0        39.93       2.514   \n",
              "3      1  26-02-2010    1409727.59             0        46.63       2.561   \n",
              "4      1  05-03-2010    1554806.68             0        46.50       2.625   \n",
              "\n",
              "          CPI  Unemployment  \n",
              "0  211.096358         8.106  \n",
              "1  211.242170         8.106  \n",
              "2  211.289143         8.106  \n",
              "3  211.319643         8.106  \n",
              "4  211.350143         8.106  "
            ],
            "text/html": [
              "\n",
              "  <div id=\"df-1cd55455-1b25-45ef-a06c-ec5684a02a04\" class=\"colab-df-container\">\n",
              "    <div>\n",
              "<style scoped>\n",
              "    .dataframe tbody tr th:only-of-type {\n",
              "        vertical-align: middle;\n",
              "    }\n",
              "\n",
              "    .dataframe tbody tr th {\n",
              "        vertical-align: top;\n",
              "    }\n",
              "\n",
              "    .dataframe thead th {\n",
              "        text-align: right;\n",
              "    }\n",
              "</style>\n",
              "<table border=\"1\" class=\"dataframe\">\n",
              "  <thead>\n",
              "    <tr style=\"text-align: right;\">\n",
              "      <th></th>\n",
              "      <th>Store</th>\n",
              "      <th>Date</th>\n",
              "      <th>Weekly_Sales</th>\n",
              "      <th>Holiday_Flag</th>\n",
              "      <th>Temperature</th>\n",
              "      <th>Fuel_Price</th>\n",
              "      <th>CPI</th>\n",
              "      <th>Unemployment</th>\n",
              "    </tr>\n",
              "  </thead>\n",
              "  <tbody>\n",
              "    <tr>\n",
              "      <th>0</th>\n",
              "      <td>1</td>\n",
              "      <td>05-02-2010</td>\n",
              "      <td>1643690.90</td>\n",
              "      <td>0</td>\n",
              "      <td>42.31</td>\n",
              "      <td>2.572</td>\n",
              "      <td>211.096358</td>\n",
              "      <td>8.106</td>\n",
              "    </tr>\n",
              "    <tr>\n",
              "      <th>1</th>\n",
              "      <td>1</td>\n",
              "      <td>12-02-2010</td>\n",
              "      <td>1641957.44</td>\n",
              "      <td>1</td>\n",
              "      <td>38.51</td>\n",
              "      <td>2.548</td>\n",
              "      <td>211.242170</td>\n",
              "      <td>8.106</td>\n",
              "    </tr>\n",
              "    <tr>\n",
              "      <th>2</th>\n",
              "      <td>1</td>\n",
              "      <td>19-02-2010</td>\n",
              "      <td>1611968.17</td>\n",
              "      <td>0</td>\n",
              "      <td>39.93</td>\n",
              "      <td>2.514</td>\n",
              "      <td>211.289143</td>\n",
              "      <td>8.106</td>\n",
              "    </tr>\n",
              "    <tr>\n",
              "      <th>3</th>\n",
              "      <td>1</td>\n",
              "      <td>26-02-2010</td>\n",
              "      <td>1409727.59</td>\n",
              "      <td>0</td>\n",
              "      <td>46.63</td>\n",
              "      <td>2.561</td>\n",
              "      <td>211.319643</td>\n",
              "      <td>8.106</td>\n",
              "    </tr>\n",
              "    <tr>\n",
              "      <th>4</th>\n",
              "      <td>1</td>\n",
              "      <td>05-03-2010</td>\n",
              "      <td>1554806.68</td>\n",
              "      <td>0</td>\n",
              "      <td>46.50</td>\n",
              "      <td>2.625</td>\n",
              "      <td>211.350143</td>\n",
              "      <td>8.106</td>\n",
              "    </tr>\n",
              "  </tbody>\n",
              "</table>\n",
              "</div>\n",
              "    <div class=\"colab-df-buttons\">\n",
              "\n",
              "  <div class=\"colab-df-container\">\n",
              "    <button class=\"colab-df-convert\" onclick=\"convertToInteractive('df-1cd55455-1b25-45ef-a06c-ec5684a02a04')\"\n",
              "            title=\"Convert this dataframe to an interactive table.\"\n",
              "            style=\"display:none;\">\n",
              "\n",
              "  <svg xmlns=\"http://www.w3.org/2000/svg\" height=\"24px\" viewBox=\"0 -960 960 960\">\n",
              "    <path d=\"M120-120v-720h720v720H120Zm60-500h600v-160H180v160Zm220 220h160v-160H400v160Zm0 220h160v-160H400v160ZM180-400h160v-160H180v160Zm440 0h160v-160H620v160ZM180-180h160v-160H180v160Zm440 0h160v-160H620v160Z\"/>\n",
              "  </svg>\n",
              "    </button>\n",
              "\n",
              "  <style>\n",
              "    .colab-df-container {\n",
              "      display:flex;\n",
              "      gap: 12px;\n",
              "    }\n",
              "\n",
              "    .colab-df-convert {\n",
              "      background-color: #E8F0FE;\n",
              "      border: none;\n",
              "      border-radius: 50%;\n",
              "      cursor: pointer;\n",
              "      display: none;\n",
              "      fill: #1967D2;\n",
              "      height: 32px;\n",
              "      padding: 0 0 0 0;\n",
              "      width: 32px;\n",
              "    }\n",
              "\n",
              "    .colab-df-convert:hover {\n",
              "      background-color: #E2EBFA;\n",
              "      box-shadow: 0px 1px 2px rgba(60, 64, 67, 0.3), 0px 1px 3px 1px rgba(60, 64, 67, 0.15);\n",
              "      fill: #174EA6;\n",
              "    }\n",
              "\n",
              "    .colab-df-buttons div {\n",
              "      margin-bottom: 4px;\n",
              "    }\n",
              "\n",
              "    [theme=dark] .colab-df-convert {\n",
              "      background-color: #3B4455;\n",
              "      fill: #D2E3FC;\n",
              "    }\n",
              "\n",
              "    [theme=dark] .colab-df-convert:hover {\n",
              "      background-color: #434B5C;\n",
              "      box-shadow: 0px 1px 3px 1px rgba(0, 0, 0, 0.15);\n",
              "      filter: drop-shadow(0px 1px 2px rgba(0, 0, 0, 0.3));\n",
              "      fill: #FFFFFF;\n",
              "    }\n",
              "  </style>\n",
              "\n",
              "    <script>\n",
              "      const buttonEl =\n",
              "        document.querySelector('#df-1cd55455-1b25-45ef-a06c-ec5684a02a04 button.colab-df-convert');\n",
              "      buttonEl.style.display =\n",
              "        google.colab.kernel.accessAllowed ? 'block' : 'none';\n",
              "\n",
              "      async function convertToInteractive(key) {\n",
              "        const element = document.querySelector('#df-1cd55455-1b25-45ef-a06c-ec5684a02a04');\n",
              "        const dataTable =\n",
              "          await google.colab.kernel.invokeFunction('convertToInteractive',\n",
              "                                                    [key], {});\n",
              "        if (!dataTable) return;\n",
              "\n",
              "        const docLinkHtml = 'Like what you see? Visit the ' +\n",
              "          '<a target=\"_blank\" href=https://colab.research.google.com/notebooks/data_table.ipynb>data table notebook</a>'\n",
              "          + ' to learn more about interactive tables.';\n",
              "        element.innerHTML = '';\n",
              "        dataTable['output_type'] = 'display_data';\n",
              "        await google.colab.output.renderOutput(dataTable, element);\n",
              "        const docLink = document.createElement('div');\n",
              "        docLink.innerHTML = docLinkHtml;\n",
              "        element.appendChild(docLink);\n",
              "      }\n",
              "    </script>\n",
              "  </div>\n",
              "\n",
              "\n",
              "<div id=\"df-330ef11f-7952-4af1-859e-fe9422910e72\">\n",
              "  <button class=\"colab-df-quickchart\" onclick=\"quickchart('df-330ef11f-7952-4af1-859e-fe9422910e72')\"\n",
              "            title=\"Suggest charts\"\n",
              "            style=\"display:none;\">\n",
              "\n",
              "<svg xmlns=\"http://www.w3.org/2000/svg\" height=\"24px\"viewBox=\"0 0 24 24\"\n",
              "     width=\"24px\">\n",
              "    <g>\n",
              "        <path d=\"M19 3H5c-1.1 0-2 .9-2 2v14c0 1.1.9 2 2 2h14c1.1 0 2-.9 2-2V5c0-1.1-.9-2-2-2zM9 17H7v-7h2v7zm4 0h-2V7h2v10zm4 0h-2v-4h2v4z\"/>\n",
              "    </g>\n",
              "</svg>\n",
              "  </button>\n",
              "\n",
              "<style>\n",
              "  .colab-df-quickchart {\n",
              "      --bg-color: #E8F0FE;\n",
              "      --fill-color: #1967D2;\n",
              "      --hover-bg-color: #E2EBFA;\n",
              "      --hover-fill-color: #174EA6;\n",
              "      --disabled-fill-color: #AAA;\n",
              "      --disabled-bg-color: #DDD;\n",
              "  }\n",
              "\n",
              "  [theme=dark] .colab-df-quickchart {\n",
              "      --bg-color: #3B4455;\n",
              "      --fill-color: #D2E3FC;\n",
              "      --hover-bg-color: #434B5C;\n",
              "      --hover-fill-color: #FFFFFF;\n",
              "      --disabled-bg-color: #3B4455;\n",
              "      --disabled-fill-color: #666;\n",
              "  }\n",
              "\n",
              "  .colab-df-quickchart {\n",
              "    background-color: var(--bg-color);\n",
              "    border: none;\n",
              "    border-radius: 50%;\n",
              "    cursor: pointer;\n",
              "    display: none;\n",
              "    fill: var(--fill-color);\n",
              "    height: 32px;\n",
              "    padding: 0;\n",
              "    width: 32px;\n",
              "  }\n",
              "\n",
              "  .colab-df-quickchart:hover {\n",
              "    background-color: var(--hover-bg-color);\n",
              "    box-shadow: 0 1px 2px rgba(60, 64, 67, 0.3), 0 1px 3px 1px rgba(60, 64, 67, 0.15);\n",
              "    fill: var(--button-hover-fill-color);\n",
              "  }\n",
              "\n",
              "  .colab-df-quickchart-complete:disabled,\n",
              "  .colab-df-quickchart-complete:disabled:hover {\n",
              "    background-color: var(--disabled-bg-color);\n",
              "    fill: var(--disabled-fill-color);\n",
              "    box-shadow: none;\n",
              "  }\n",
              "\n",
              "  .colab-df-spinner {\n",
              "    border: 2px solid var(--fill-color);\n",
              "    border-color: transparent;\n",
              "    border-bottom-color: var(--fill-color);\n",
              "    animation:\n",
              "      spin 1s steps(1) infinite;\n",
              "  }\n",
              "\n",
              "  @keyframes spin {\n",
              "    0% {\n",
              "      border-color: transparent;\n",
              "      border-bottom-color: var(--fill-color);\n",
              "      border-left-color: var(--fill-color);\n",
              "    }\n",
              "    20% {\n",
              "      border-color: transparent;\n",
              "      border-left-color: var(--fill-color);\n",
              "      border-top-color: var(--fill-color);\n",
              "    }\n",
              "    30% {\n",
              "      border-color: transparent;\n",
              "      border-left-color: var(--fill-color);\n",
              "      border-top-color: var(--fill-color);\n",
              "      border-right-color: var(--fill-color);\n",
              "    }\n",
              "    40% {\n",
              "      border-color: transparent;\n",
              "      border-right-color: var(--fill-color);\n",
              "      border-top-color: var(--fill-color);\n",
              "    }\n",
              "    60% {\n",
              "      border-color: transparent;\n",
              "      border-right-color: var(--fill-color);\n",
              "    }\n",
              "    80% {\n",
              "      border-color: transparent;\n",
              "      border-right-color: var(--fill-color);\n",
              "      border-bottom-color: var(--fill-color);\n",
              "    }\n",
              "    90% {\n",
              "      border-color: transparent;\n",
              "      border-bottom-color: var(--fill-color);\n",
              "    }\n",
              "  }\n",
              "</style>\n",
              "\n",
              "  <script>\n",
              "    async function quickchart(key) {\n",
              "      const quickchartButtonEl =\n",
              "        document.querySelector('#' + key + ' button');\n",
              "      quickchartButtonEl.disabled = true;  // To prevent multiple clicks.\n",
              "      quickchartButtonEl.classList.add('colab-df-spinner');\n",
              "      try {\n",
              "        const charts = await google.colab.kernel.invokeFunction(\n",
              "            'suggestCharts', [key], {});\n",
              "      } catch (error) {\n",
              "        console.error('Error during call to suggestCharts:', error);\n",
              "      }\n",
              "      quickchartButtonEl.classList.remove('colab-df-spinner');\n",
              "      quickchartButtonEl.classList.add('colab-df-quickchart-complete');\n",
              "    }\n",
              "    (() => {\n",
              "      let quickchartButtonEl =\n",
              "        document.querySelector('#df-330ef11f-7952-4af1-859e-fe9422910e72 button');\n",
              "      quickchartButtonEl.style.display =\n",
              "        google.colab.kernel.accessAllowed ? 'block' : 'none';\n",
              "    })();\n",
              "  </script>\n",
              "</div>\n",
              "\n",
              "    </div>\n",
              "  </div>\n"
            ],
            "application/vnd.google.colaboratory.intrinsic+json": {
              "type": "dataframe",
              "variable_name": "df",
              "summary": "{\n  \"name\": \"df\",\n  \"rows\": 6435,\n  \"fields\": [\n    {\n      \"column\": \"Store\",\n      \"properties\": {\n        \"dtype\": \"number\",\n        \"std\": 12,\n        \"min\": 1,\n        \"max\": 45,\n        \"num_unique_values\": 45,\n        \"samples\": [\n          40,\n          26,\n          27\n        ],\n        \"semantic_type\": \"\",\n        \"description\": \"\"\n      }\n    },\n    {\n      \"column\": \"Date\",\n      \"properties\": {\n        \"dtype\": \"category\",\n        \"num_unique_values\": 143,\n        \"samples\": [\n          \"04-05-2012\",\n          \"18-06-2010\",\n          \"02-09-2011\"\n        ],\n        \"semantic_type\": \"\",\n        \"description\": \"\"\n      }\n    },\n    {\n      \"column\": \"Weekly_Sales\",\n      \"properties\": {\n        \"dtype\": \"number\",\n        \"std\": 564366.6220536975,\n        \"min\": 209986.25,\n        \"max\": 3818686.45,\n        \"num_unique_values\": 6435,\n        \"samples\": [\n          1138800.32,\n          1304850.67,\n          1769296.25\n        ],\n        \"semantic_type\": \"\",\n        \"description\": \"\"\n      }\n    },\n    {\n      \"column\": \"Holiday_Flag\",\n      \"properties\": {\n        \"dtype\": \"number\",\n        \"std\": 0,\n        \"min\": 0,\n        \"max\": 1,\n        \"num_unique_values\": 2,\n        \"samples\": [\n          1,\n          0\n        ],\n        \"semantic_type\": \"\",\n        \"description\": \"\"\n      }\n    },\n    {\n      \"column\": \"Temperature\",\n      \"properties\": {\n        \"dtype\": \"number\",\n        \"std\": 18.44493287581158,\n        \"min\": -2.06,\n        \"max\": 100.14,\n        \"num_unique_values\": 3528,\n        \"samples\": [\n          51.13,\n          98.15\n        ],\n        \"semantic_type\": \"\",\n        \"description\": \"\"\n      }\n    },\n    {\n      \"column\": \"Fuel_Price\",\n      \"properties\": {\n        \"dtype\": \"number\",\n        \"std\": 0.4590197071928525,\n        \"min\": 2.472,\n        \"max\": 4.468,\n        \"num_unique_values\": 892,\n        \"samples\": [\n          2.84,\n          3.95\n        ],\n        \"semantic_type\": \"\",\n        \"description\": \"\"\n      }\n    },\n    {\n      \"column\": \"CPI\",\n      \"properties\": {\n        \"dtype\": \"number\",\n        \"std\": 39.35671229566418,\n        \"min\": 126.064,\n        \"max\": 227.2328068,\n        \"num_unique_values\": 2145,\n        \"samples\": [\n          184.613419,\n          214.1083654\n        ],\n        \"semantic_type\": \"\",\n        \"description\": \"\"\n      }\n    },\n    {\n      \"column\": \"Unemployment\",\n      \"properties\": {\n        \"dtype\": \"number\",\n        \"std\": 1.8758847818627977,\n        \"min\": 3.879,\n        \"max\": 14.313,\n        \"num_unique_values\": 349,\n        \"samples\": [\n          8.185,\n          7.804\n        ],\n        \"semantic_type\": \"\",\n        \"description\": \"\"\n      }\n    }\n  ]\n}"
            }
          },
          "metadata": {},
          "execution_count": 176
        }
      ]
    },
    {
      "cell_type": "code",
      "source": [
        "#notice that there are many multiples of Store so only store unique values as well as Date --> how to know which variables to use from columns for use in dataset/graph\n",
        "df['Store'].unique() #in seperate cells so does not get overridden #feature"
      ],
      "metadata": {
        "colab": {
          "base_uri": "https://localhost:8080/"
        },
        "id": "6td7DjAQ85VZ",
        "outputId": "95397887-15aa-4a20-f341-84b677ced170"
      },
      "execution_count": null,
      "outputs": [
        {
          "output_type": "execute_result",
          "data": {
            "text/plain": [
              "array([ 1,  2,  3,  4,  5,  6,  7,  8,  9, 10, 11, 12, 13, 14, 15, 16, 17,\n",
              "       18, 19, 20, 21, 22, 23, 24, 25, 26, 27, 28, 29, 30, 31, 32, 33, 34,\n",
              "       35, 36, 37, 38, 39, 40, 41, 42, 43, 44, 45])"
            ]
          },
          "metadata": {},
          "execution_count": 177
        }
      ]
    },
    {
      "cell_type": "code",
      "source": [
        "df['Date'].unique()"
      ],
      "metadata": {
        "colab": {
          "base_uri": "https://localhost:8080/"
        },
        "id": "k77RqHzd9cT_",
        "outputId": "1890d734-6121-4c6c-c8d1-a9d1fe17db03"
      },
      "execution_count": null,
      "outputs": [
        {
          "output_type": "execute_result",
          "data": {
            "text/plain": [
              "array(['05-02-2010', '12-02-2010', '19-02-2010', '26-02-2010',\n",
              "       '05-03-2010', '12-03-2010', '19-03-2010', '26-03-2010',\n",
              "       '02-04-2010', '09-04-2010', '16-04-2010', '23-04-2010',\n",
              "       '30-04-2010', '07-05-2010', '14-05-2010', '21-05-2010',\n",
              "       '28-05-2010', '04-06-2010', '11-06-2010', '18-06-2010',\n",
              "       '25-06-2010', '02-07-2010', '09-07-2010', '16-07-2010',\n",
              "       '23-07-2010', '30-07-2010', '06-08-2010', '13-08-2010',\n",
              "       '20-08-2010', '27-08-2010', '03-09-2010', '10-09-2010',\n",
              "       '17-09-2010', '24-09-2010', '01-10-2010', '08-10-2010',\n",
              "       '15-10-2010', '22-10-2010', '29-10-2010', '05-11-2010',\n",
              "       '12-11-2010', '19-11-2010', '26-11-2010', '03-12-2010',\n",
              "       '10-12-2010', '17-12-2010', '24-12-2010', '31-12-2010',\n",
              "       '07-01-2011', '14-01-2011', '21-01-2011', '28-01-2011',\n",
              "       '04-02-2011', '11-02-2011', '18-02-2011', '25-02-2011',\n",
              "       '04-03-2011', '11-03-2011', '18-03-2011', '25-03-2011',\n",
              "       '01-04-2011', '08-04-2011', '15-04-2011', '22-04-2011',\n",
              "       '29-04-2011', '06-05-2011', '13-05-2011', '20-05-2011',\n",
              "       '27-05-2011', '03-06-2011', '10-06-2011', '17-06-2011',\n",
              "       '24-06-2011', '01-07-2011', '08-07-2011', '15-07-2011',\n",
              "       '22-07-2011', '29-07-2011', '05-08-2011', '12-08-2011',\n",
              "       '19-08-2011', '26-08-2011', '02-09-2011', '09-09-2011',\n",
              "       '16-09-2011', '23-09-2011', '30-09-2011', '07-10-2011',\n",
              "       '14-10-2011', '21-10-2011', '28-10-2011', '04-11-2011',\n",
              "       '11-11-2011', '18-11-2011', '25-11-2011', '02-12-2011',\n",
              "       '09-12-2011', '16-12-2011', '23-12-2011', '30-12-2011',\n",
              "       '06-01-2012', '13-01-2012', '20-01-2012', '27-01-2012',\n",
              "       '03-02-2012', '10-02-2012', '17-02-2012', '24-02-2012',\n",
              "       '02-03-2012', '09-03-2012', '16-03-2012', '23-03-2012',\n",
              "       '30-03-2012', '06-04-2012', '13-04-2012', '20-04-2012',\n",
              "       '27-04-2012', '04-05-2012', '11-05-2012', '18-05-2012',\n",
              "       '25-05-2012', '01-06-2012', '08-06-2012', '15-06-2012',\n",
              "       '22-06-2012', '29-06-2012', '06-07-2012', '13-07-2012',\n",
              "       '20-07-2012', '27-07-2012', '03-08-2012', '10-08-2012',\n",
              "       '17-08-2012', '24-08-2012', '31-08-2012', '07-09-2012',\n",
              "       '14-09-2012', '21-09-2012', '28-09-2012', '05-10-2012',\n",
              "       '12-10-2012', '19-10-2012', '26-10-2012'], dtype=object)"
            ]
          },
          "metadata": {},
          "execution_count": 178
        }
      ]
    },
    {
      "cell_type": "code",
      "source": [
        "df['Day'] = df['Date'].str[:-8]"
      ],
      "metadata": {
        "id": "YbHxfF09N-xL"
      },
      "execution_count": null,
      "outputs": []
    },
    {
      "cell_type": "code",
      "source": [
        "df['Month'] = df['Date'].str[:-5]\n",
        "df['Month'] = df['Month'].str[3:]"
      ],
      "metadata": {
        "id": "dkW7eK1iY0L2"
      },
      "execution_count": null,
      "outputs": []
    },
    {
      "cell_type": "code",
      "source": [
        "df['Dates'] = df['Month'] + str('-') + df['Day']"
      ],
      "metadata": {
        "id": "IA3VfAoZb5XI"
      },
      "execution_count": null,
      "outputs": []
    },
    {
      "cell_type": "code",
      "source": [
        "df.drop(['Date'], axis=1, inplace=True) #column index, drop --> split into month/date (important feature) create new var combo of month + date date/time library utility func month + date seperate column\n",
        "#what does this do?\n",
        "#drops or gets rid of the Date column in index 1 and chooses not to create a new matrix, keeps old\n",
        "#removes the specified row or column. By specifying the column axis ( axis='columns' ), the drop() method removes the specified column."
      ],
      "metadata": {
        "id": "T18WV6nM9t28"
      },
      "execution_count": null,
      "outputs": []
    },
    {
      "cell_type": "markdown",
      "source": [
        "Create a new variable New_Date and remove year substring, sort array"
      ],
      "metadata": {
        "id": "-T83Izi5NV0a"
      }
    },
    {
      "cell_type": "code",
      "source": [
        "df.head()"
      ],
      "metadata": {
        "colab": {
          "base_uri": "https://localhost:8080/",
          "height": 206
        },
        "id": "7xPBKz0M-Yj1",
        "outputId": "4cbffb7e-b020-444a-bec5-7339d812e153"
      },
      "execution_count": null,
      "outputs": [
        {
          "output_type": "execute_result",
          "data": {
            "text/plain": [
              "   Store  Weekly_Sales  Holiday_Flag  Temperature  Fuel_Price         CPI  \\\n",
              "0      1    1643690.90             0        42.31       2.572  211.096358   \n",
              "1      1    1641957.44             1        38.51       2.548  211.242170   \n",
              "2      1    1611968.17             0        39.93       2.514  211.289143   \n",
              "3      1    1409727.59             0        46.63       2.561  211.319643   \n",
              "4      1    1554806.68             0        46.50       2.625  211.350143   \n",
              "\n",
              "   Unemployment Day Month  Dates  \n",
              "0         8.106  05    02  02-05  \n",
              "1         8.106  12    02  02-12  \n",
              "2         8.106  19    02  02-19  \n",
              "3         8.106  26    02  02-26  \n",
              "4         8.106  05    03  03-05  "
            ],
            "text/html": [
              "\n",
              "  <div id=\"df-be5a8daf-edf5-4890-a234-aebf0ba02357\" class=\"colab-df-container\">\n",
              "    <div>\n",
              "<style scoped>\n",
              "    .dataframe tbody tr th:only-of-type {\n",
              "        vertical-align: middle;\n",
              "    }\n",
              "\n",
              "    .dataframe tbody tr th {\n",
              "        vertical-align: top;\n",
              "    }\n",
              "\n",
              "    .dataframe thead th {\n",
              "        text-align: right;\n",
              "    }\n",
              "</style>\n",
              "<table border=\"1\" class=\"dataframe\">\n",
              "  <thead>\n",
              "    <tr style=\"text-align: right;\">\n",
              "      <th></th>\n",
              "      <th>Store</th>\n",
              "      <th>Weekly_Sales</th>\n",
              "      <th>Holiday_Flag</th>\n",
              "      <th>Temperature</th>\n",
              "      <th>Fuel_Price</th>\n",
              "      <th>CPI</th>\n",
              "      <th>Unemployment</th>\n",
              "      <th>Day</th>\n",
              "      <th>Month</th>\n",
              "      <th>Dates</th>\n",
              "    </tr>\n",
              "  </thead>\n",
              "  <tbody>\n",
              "    <tr>\n",
              "      <th>0</th>\n",
              "      <td>1</td>\n",
              "      <td>1643690.90</td>\n",
              "      <td>0</td>\n",
              "      <td>42.31</td>\n",
              "      <td>2.572</td>\n",
              "      <td>211.096358</td>\n",
              "      <td>8.106</td>\n",
              "      <td>05</td>\n",
              "      <td>02</td>\n",
              "      <td>02-05</td>\n",
              "    </tr>\n",
              "    <tr>\n",
              "      <th>1</th>\n",
              "      <td>1</td>\n",
              "      <td>1641957.44</td>\n",
              "      <td>1</td>\n",
              "      <td>38.51</td>\n",
              "      <td>2.548</td>\n",
              "      <td>211.242170</td>\n",
              "      <td>8.106</td>\n",
              "      <td>12</td>\n",
              "      <td>02</td>\n",
              "      <td>02-12</td>\n",
              "    </tr>\n",
              "    <tr>\n",
              "      <th>2</th>\n",
              "      <td>1</td>\n",
              "      <td>1611968.17</td>\n",
              "      <td>0</td>\n",
              "      <td>39.93</td>\n",
              "      <td>2.514</td>\n",
              "      <td>211.289143</td>\n",
              "      <td>8.106</td>\n",
              "      <td>19</td>\n",
              "      <td>02</td>\n",
              "      <td>02-19</td>\n",
              "    </tr>\n",
              "    <tr>\n",
              "      <th>3</th>\n",
              "      <td>1</td>\n",
              "      <td>1409727.59</td>\n",
              "      <td>0</td>\n",
              "      <td>46.63</td>\n",
              "      <td>2.561</td>\n",
              "      <td>211.319643</td>\n",
              "      <td>8.106</td>\n",
              "      <td>26</td>\n",
              "      <td>02</td>\n",
              "      <td>02-26</td>\n",
              "    </tr>\n",
              "    <tr>\n",
              "      <th>4</th>\n",
              "      <td>1</td>\n",
              "      <td>1554806.68</td>\n",
              "      <td>0</td>\n",
              "      <td>46.50</td>\n",
              "      <td>2.625</td>\n",
              "      <td>211.350143</td>\n",
              "      <td>8.106</td>\n",
              "      <td>05</td>\n",
              "      <td>03</td>\n",
              "      <td>03-05</td>\n",
              "    </tr>\n",
              "  </tbody>\n",
              "</table>\n",
              "</div>\n",
              "    <div class=\"colab-df-buttons\">\n",
              "\n",
              "  <div class=\"colab-df-container\">\n",
              "    <button class=\"colab-df-convert\" onclick=\"convertToInteractive('df-be5a8daf-edf5-4890-a234-aebf0ba02357')\"\n",
              "            title=\"Convert this dataframe to an interactive table.\"\n",
              "            style=\"display:none;\">\n",
              "\n",
              "  <svg xmlns=\"http://www.w3.org/2000/svg\" height=\"24px\" viewBox=\"0 -960 960 960\">\n",
              "    <path d=\"M120-120v-720h720v720H120Zm60-500h600v-160H180v160Zm220 220h160v-160H400v160Zm0 220h160v-160H400v160ZM180-400h160v-160H180v160Zm440 0h160v-160H620v160ZM180-180h160v-160H180v160Zm440 0h160v-160H620v160Z\"/>\n",
              "  </svg>\n",
              "    </button>\n",
              "\n",
              "  <style>\n",
              "    .colab-df-container {\n",
              "      display:flex;\n",
              "      gap: 12px;\n",
              "    }\n",
              "\n",
              "    .colab-df-convert {\n",
              "      background-color: #E8F0FE;\n",
              "      border: none;\n",
              "      border-radius: 50%;\n",
              "      cursor: pointer;\n",
              "      display: none;\n",
              "      fill: #1967D2;\n",
              "      height: 32px;\n",
              "      padding: 0 0 0 0;\n",
              "      width: 32px;\n",
              "    }\n",
              "\n",
              "    .colab-df-convert:hover {\n",
              "      background-color: #E2EBFA;\n",
              "      box-shadow: 0px 1px 2px rgba(60, 64, 67, 0.3), 0px 1px 3px 1px rgba(60, 64, 67, 0.15);\n",
              "      fill: #174EA6;\n",
              "    }\n",
              "\n",
              "    .colab-df-buttons div {\n",
              "      margin-bottom: 4px;\n",
              "    }\n",
              "\n",
              "    [theme=dark] .colab-df-convert {\n",
              "      background-color: #3B4455;\n",
              "      fill: #D2E3FC;\n",
              "    }\n",
              "\n",
              "    [theme=dark] .colab-df-convert:hover {\n",
              "      background-color: #434B5C;\n",
              "      box-shadow: 0px 1px 3px 1px rgba(0, 0, 0, 0.15);\n",
              "      filter: drop-shadow(0px 1px 2px rgba(0, 0, 0, 0.3));\n",
              "      fill: #FFFFFF;\n",
              "    }\n",
              "  </style>\n",
              "\n",
              "    <script>\n",
              "      const buttonEl =\n",
              "        document.querySelector('#df-be5a8daf-edf5-4890-a234-aebf0ba02357 button.colab-df-convert');\n",
              "      buttonEl.style.display =\n",
              "        google.colab.kernel.accessAllowed ? 'block' : 'none';\n",
              "\n",
              "      async function convertToInteractive(key) {\n",
              "        const element = document.querySelector('#df-be5a8daf-edf5-4890-a234-aebf0ba02357');\n",
              "        const dataTable =\n",
              "          await google.colab.kernel.invokeFunction('convertToInteractive',\n",
              "                                                    [key], {});\n",
              "        if (!dataTable) return;\n",
              "\n",
              "        const docLinkHtml = 'Like what you see? Visit the ' +\n",
              "          '<a target=\"_blank\" href=https://colab.research.google.com/notebooks/data_table.ipynb>data table notebook</a>'\n",
              "          + ' to learn more about interactive tables.';\n",
              "        element.innerHTML = '';\n",
              "        dataTable['output_type'] = 'display_data';\n",
              "        await google.colab.output.renderOutput(dataTable, element);\n",
              "        const docLink = document.createElement('div');\n",
              "        docLink.innerHTML = docLinkHtml;\n",
              "        element.appendChild(docLink);\n",
              "      }\n",
              "    </script>\n",
              "  </div>\n",
              "\n",
              "\n",
              "<div id=\"df-15188605-d8a0-4e56-bf7b-9e74611e20a4\">\n",
              "  <button class=\"colab-df-quickchart\" onclick=\"quickchart('df-15188605-d8a0-4e56-bf7b-9e74611e20a4')\"\n",
              "            title=\"Suggest charts\"\n",
              "            style=\"display:none;\">\n",
              "\n",
              "<svg xmlns=\"http://www.w3.org/2000/svg\" height=\"24px\"viewBox=\"0 0 24 24\"\n",
              "     width=\"24px\">\n",
              "    <g>\n",
              "        <path d=\"M19 3H5c-1.1 0-2 .9-2 2v14c0 1.1.9 2 2 2h14c1.1 0 2-.9 2-2V5c0-1.1-.9-2-2-2zM9 17H7v-7h2v7zm4 0h-2V7h2v10zm4 0h-2v-4h2v4z\"/>\n",
              "    </g>\n",
              "</svg>\n",
              "  </button>\n",
              "\n",
              "<style>\n",
              "  .colab-df-quickchart {\n",
              "      --bg-color: #E8F0FE;\n",
              "      --fill-color: #1967D2;\n",
              "      --hover-bg-color: #E2EBFA;\n",
              "      --hover-fill-color: #174EA6;\n",
              "      --disabled-fill-color: #AAA;\n",
              "      --disabled-bg-color: #DDD;\n",
              "  }\n",
              "\n",
              "  [theme=dark] .colab-df-quickchart {\n",
              "      --bg-color: #3B4455;\n",
              "      --fill-color: #D2E3FC;\n",
              "      --hover-bg-color: #434B5C;\n",
              "      --hover-fill-color: #FFFFFF;\n",
              "      --disabled-bg-color: #3B4455;\n",
              "      --disabled-fill-color: #666;\n",
              "  }\n",
              "\n",
              "  .colab-df-quickchart {\n",
              "    background-color: var(--bg-color);\n",
              "    border: none;\n",
              "    border-radius: 50%;\n",
              "    cursor: pointer;\n",
              "    display: none;\n",
              "    fill: var(--fill-color);\n",
              "    height: 32px;\n",
              "    padding: 0;\n",
              "    width: 32px;\n",
              "  }\n",
              "\n",
              "  .colab-df-quickchart:hover {\n",
              "    background-color: var(--hover-bg-color);\n",
              "    box-shadow: 0 1px 2px rgba(60, 64, 67, 0.3), 0 1px 3px 1px rgba(60, 64, 67, 0.15);\n",
              "    fill: var(--button-hover-fill-color);\n",
              "  }\n",
              "\n",
              "  .colab-df-quickchart-complete:disabled,\n",
              "  .colab-df-quickchart-complete:disabled:hover {\n",
              "    background-color: var(--disabled-bg-color);\n",
              "    fill: var(--disabled-fill-color);\n",
              "    box-shadow: none;\n",
              "  }\n",
              "\n",
              "  .colab-df-spinner {\n",
              "    border: 2px solid var(--fill-color);\n",
              "    border-color: transparent;\n",
              "    border-bottom-color: var(--fill-color);\n",
              "    animation:\n",
              "      spin 1s steps(1) infinite;\n",
              "  }\n",
              "\n",
              "  @keyframes spin {\n",
              "    0% {\n",
              "      border-color: transparent;\n",
              "      border-bottom-color: var(--fill-color);\n",
              "      border-left-color: var(--fill-color);\n",
              "    }\n",
              "    20% {\n",
              "      border-color: transparent;\n",
              "      border-left-color: var(--fill-color);\n",
              "      border-top-color: var(--fill-color);\n",
              "    }\n",
              "    30% {\n",
              "      border-color: transparent;\n",
              "      border-left-color: var(--fill-color);\n",
              "      border-top-color: var(--fill-color);\n",
              "      border-right-color: var(--fill-color);\n",
              "    }\n",
              "    40% {\n",
              "      border-color: transparent;\n",
              "      border-right-color: var(--fill-color);\n",
              "      border-top-color: var(--fill-color);\n",
              "    }\n",
              "    60% {\n",
              "      border-color: transparent;\n",
              "      border-right-color: var(--fill-color);\n",
              "    }\n",
              "    80% {\n",
              "      border-color: transparent;\n",
              "      border-right-color: var(--fill-color);\n",
              "      border-bottom-color: var(--fill-color);\n",
              "    }\n",
              "    90% {\n",
              "      border-color: transparent;\n",
              "      border-bottom-color: var(--fill-color);\n",
              "    }\n",
              "  }\n",
              "</style>\n",
              "\n",
              "  <script>\n",
              "    async function quickchart(key) {\n",
              "      const quickchartButtonEl =\n",
              "        document.querySelector('#' + key + ' button');\n",
              "      quickchartButtonEl.disabled = true;  // To prevent multiple clicks.\n",
              "      quickchartButtonEl.classList.add('colab-df-spinner');\n",
              "      try {\n",
              "        const charts = await google.colab.kernel.invokeFunction(\n",
              "            'suggestCharts', [key], {});\n",
              "      } catch (error) {\n",
              "        console.error('Error during call to suggestCharts:', error);\n",
              "      }\n",
              "      quickchartButtonEl.classList.remove('colab-df-spinner');\n",
              "      quickchartButtonEl.classList.add('colab-df-quickchart-complete');\n",
              "    }\n",
              "    (() => {\n",
              "      let quickchartButtonEl =\n",
              "        document.querySelector('#df-15188605-d8a0-4e56-bf7b-9e74611e20a4 button');\n",
              "      quickchartButtonEl.style.display =\n",
              "        google.colab.kernel.accessAllowed ? 'block' : 'none';\n",
              "    })();\n",
              "  </script>\n",
              "</div>\n",
              "\n",
              "    </div>\n",
              "  </div>\n"
            ],
            "application/vnd.google.colaboratory.intrinsic+json": {
              "type": "dataframe",
              "variable_name": "df",
              "summary": "{\n  \"name\": \"df\",\n  \"rows\": 6435,\n  \"fields\": [\n    {\n      \"column\": \"Store\",\n      \"properties\": {\n        \"dtype\": \"number\",\n        \"std\": 12,\n        \"min\": 1,\n        \"max\": 45,\n        \"num_unique_values\": 45,\n        \"samples\": [\n          40,\n          26,\n          27\n        ],\n        \"semantic_type\": \"\",\n        \"description\": \"\"\n      }\n    },\n    {\n      \"column\": \"Weekly_Sales\",\n      \"properties\": {\n        \"dtype\": \"number\",\n        \"std\": 564366.6220536975,\n        \"min\": 209986.25,\n        \"max\": 3818686.45,\n        \"num_unique_values\": 6435,\n        \"samples\": [\n          1138800.32,\n          1304850.67,\n          1769296.25\n        ],\n        \"semantic_type\": \"\",\n        \"description\": \"\"\n      }\n    },\n    {\n      \"column\": \"Holiday_Flag\",\n      \"properties\": {\n        \"dtype\": \"number\",\n        \"std\": 0,\n        \"min\": 0,\n        \"max\": 1,\n        \"num_unique_values\": 2,\n        \"samples\": [\n          1,\n          0\n        ],\n        \"semantic_type\": \"\",\n        \"description\": \"\"\n      }\n    },\n    {\n      \"column\": \"Temperature\",\n      \"properties\": {\n        \"dtype\": \"number\",\n        \"std\": 18.44493287581158,\n        \"min\": -2.06,\n        \"max\": 100.14,\n        \"num_unique_values\": 3528,\n        \"samples\": [\n          51.13,\n          98.15\n        ],\n        \"semantic_type\": \"\",\n        \"description\": \"\"\n      }\n    },\n    {\n      \"column\": \"Fuel_Price\",\n      \"properties\": {\n        \"dtype\": \"number\",\n        \"std\": 0.4590197071928525,\n        \"min\": 2.472,\n        \"max\": 4.468,\n        \"num_unique_values\": 892,\n        \"samples\": [\n          2.84,\n          3.95\n        ],\n        \"semantic_type\": \"\",\n        \"description\": \"\"\n      }\n    },\n    {\n      \"column\": \"CPI\",\n      \"properties\": {\n        \"dtype\": \"number\",\n        \"std\": 39.35671229566418,\n        \"min\": 126.064,\n        \"max\": 227.2328068,\n        \"num_unique_values\": 2145,\n        \"samples\": [\n          184.613419,\n          214.1083654\n        ],\n        \"semantic_type\": \"\",\n        \"description\": \"\"\n      }\n    },\n    {\n      \"column\": \"Unemployment\",\n      \"properties\": {\n        \"dtype\": \"number\",\n        \"std\": 1.8758847818627977,\n        \"min\": 3.879,\n        \"max\": 14.313,\n        \"num_unique_values\": 349,\n        \"samples\": [\n          8.185,\n          7.804\n        ],\n        \"semantic_type\": \"\",\n        \"description\": \"\"\n      }\n    },\n    {\n      \"column\": \"Day\",\n      \"properties\": {\n        \"dtype\": \"category\",\n        \"num_unique_values\": 31,\n        \"samples\": [\n          \"15\",\n          \"18\"\n        ],\n        \"semantic_type\": \"\",\n        \"description\": \"\"\n      }\n    },\n    {\n      \"column\": \"Month\",\n      \"properties\": {\n        \"dtype\": \"category\",\n        \"num_unique_values\": 12,\n        \"samples\": [\n          \"12\",\n          \"11\"\n        ],\n        \"semantic_type\": \"\",\n        \"description\": \"\"\n      }\n    },\n    {\n      \"column\": \"Dates\",\n      \"properties\": {\n        \"dtype\": \"category\",\n        \"num_unique_values\": 143,\n        \"samples\": [\n          \"05-04\",\n          \"06-18\"\n        ],\n        \"semantic_type\": \"\",\n        \"description\": \"\"\n      }\n    }\n  ]\n}"
            }
          },
          "metadata": {},
          "execution_count": 183
        }
      ]
    },
    {
      "cell_type": "code",
      "source": [
        "df.describe() #count = row #"
      ],
      "metadata": {
        "colab": {
          "base_uri": "https://localhost:8080/",
          "height": 300
        },
        "id": "9ttIvODM-uvX",
        "outputId": "0d7ac123-c71c-46ca-bef8-6dc17bfd6f2b"
      },
      "execution_count": null,
      "outputs": [
        {
          "output_type": "execute_result",
          "data": {
            "text/plain": [
              "             Store  Weekly_Sales  Holiday_Flag  Temperature   Fuel_Price  \\\n",
              "count  6435.000000  6.435000e+03   6435.000000  6435.000000  6435.000000   \n",
              "mean     23.000000  1.046965e+06      0.069930    60.663782     3.358607   \n",
              "std      12.988182  5.643666e+05      0.255049    18.444933     0.459020   \n",
              "min       1.000000  2.099862e+05      0.000000    -2.060000     2.472000   \n",
              "25%      12.000000  5.533501e+05      0.000000    47.460000     2.933000   \n",
              "50%      23.000000  9.607460e+05      0.000000    62.670000     3.445000   \n",
              "75%      34.000000  1.420159e+06      0.000000    74.940000     3.735000   \n",
              "max      45.000000  3.818686e+06      1.000000   100.140000     4.468000   \n",
              "\n",
              "               CPI  Unemployment  \n",
              "count  6435.000000   6435.000000  \n",
              "mean    171.578394      7.999151  \n",
              "std      39.356712      1.875885  \n",
              "min     126.064000      3.879000  \n",
              "25%     131.735000      6.891000  \n",
              "50%     182.616521      7.874000  \n",
              "75%     212.743293      8.622000  \n",
              "max     227.232807     14.313000  "
            ],
            "text/html": [
              "\n",
              "  <div id=\"df-c66f49ae-5889-4c0e-aec2-0ebccf733f99\" class=\"colab-df-container\">\n",
              "    <div>\n",
              "<style scoped>\n",
              "    .dataframe tbody tr th:only-of-type {\n",
              "        vertical-align: middle;\n",
              "    }\n",
              "\n",
              "    .dataframe tbody tr th {\n",
              "        vertical-align: top;\n",
              "    }\n",
              "\n",
              "    .dataframe thead th {\n",
              "        text-align: right;\n",
              "    }\n",
              "</style>\n",
              "<table border=\"1\" class=\"dataframe\">\n",
              "  <thead>\n",
              "    <tr style=\"text-align: right;\">\n",
              "      <th></th>\n",
              "      <th>Store</th>\n",
              "      <th>Weekly_Sales</th>\n",
              "      <th>Holiday_Flag</th>\n",
              "      <th>Temperature</th>\n",
              "      <th>Fuel_Price</th>\n",
              "      <th>CPI</th>\n",
              "      <th>Unemployment</th>\n",
              "    </tr>\n",
              "  </thead>\n",
              "  <tbody>\n",
              "    <tr>\n",
              "      <th>count</th>\n",
              "      <td>6435.000000</td>\n",
              "      <td>6.435000e+03</td>\n",
              "      <td>6435.000000</td>\n",
              "      <td>6435.000000</td>\n",
              "      <td>6435.000000</td>\n",
              "      <td>6435.000000</td>\n",
              "      <td>6435.000000</td>\n",
              "    </tr>\n",
              "    <tr>\n",
              "      <th>mean</th>\n",
              "      <td>23.000000</td>\n",
              "      <td>1.046965e+06</td>\n",
              "      <td>0.069930</td>\n",
              "      <td>60.663782</td>\n",
              "      <td>3.358607</td>\n",
              "      <td>171.578394</td>\n",
              "      <td>7.999151</td>\n",
              "    </tr>\n",
              "    <tr>\n",
              "      <th>std</th>\n",
              "      <td>12.988182</td>\n",
              "      <td>5.643666e+05</td>\n",
              "      <td>0.255049</td>\n",
              "      <td>18.444933</td>\n",
              "      <td>0.459020</td>\n",
              "      <td>39.356712</td>\n",
              "      <td>1.875885</td>\n",
              "    </tr>\n",
              "    <tr>\n",
              "      <th>min</th>\n",
              "      <td>1.000000</td>\n",
              "      <td>2.099862e+05</td>\n",
              "      <td>0.000000</td>\n",
              "      <td>-2.060000</td>\n",
              "      <td>2.472000</td>\n",
              "      <td>126.064000</td>\n",
              "      <td>3.879000</td>\n",
              "    </tr>\n",
              "    <tr>\n",
              "      <th>25%</th>\n",
              "      <td>12.000000</td>\n",
              "      <td>5.533501e+05</td>\n",
              "      <td>0.000000</td>\n",
              "      <td>47.460000</td>\n",
              "      <td>2.933000</td>\n",
              "      <td>131.735000</td>\n",
              "      <td>6.891000</td>\n",
              "    </tr>\n",
              "    <tr>\n",
              "      <th>50%</th>\n",
              "      <td>23.000000</td>\n",
              "      <td>9.607460e+05</td>\n",
              "      <td>0.000000</td>\n",
              "      <td>62.670000</td>\n",
              "      <td>3.445000</td>\n",
              "      <td>182.616521</td>\n",
              "      <td>7.874000</td>\n",
              "    </tr>\n",
              "    <tr>\n",
              "      <th>75%</th>\n",
              "      <td>34.000000</td>\n",
              "      <td>1.420159e+06</td>\n",
              "      <td>0.000000</td>\n",
              "      <td>74.940000</td>\n",
              "      <td>3.735000</td>\n",
              "      <td>212.743293</td>\n",
              "      <td>8.622000</td>\n",
              "    </tr>\n",
              "    <tr>\n",
              "      <th>max</th>\n",
              "      <td>45.000000</td>\n",
              "      <td>3.818686e+06</td>\n",
              "      <td>1.000000</td>\n",
              "      <td>100.140000</td>\n",
              "      <td>4.468000</td>\n",
              "      <td>227.232807</td>\n",
              "      <td>14.313000</td>\n",
              "    </tr>\n",
              "  </tbody>\n",
              "</table>\n",
              "</div>\n",
              "    <div class=\"colab-df-buttons\">\n",
              "\n",
              "  <div class=\"colab-df-container\">\n",
              "    <button class=\"colab-df-convert\" onclick=\"convertToInteractive('df-c66f49ae-5889-4c0e-aec2-0ebccf733f99')\"\n",
              "            title=\"Convert this dataframe to an interactive table.\"\n",
              "            style=\"display:none;\">\n",
              "\n",
              "  <svg xmlns=\"http://www.w3.org/2000/svg\" height=\"24px\" viewBox=\"0 -960 960 960\">\n",
              "    <path d=\"M120-120v-720h720v720H120Zm60-500h600v-160H180v160Zm220 220h160v-160H400v160Zm0 220h160v-160H400v160ZM180-400h160v-160H180v160Zm440 0h160v-160H620v160ZM180-180h160v-160H180v160Zm440 0h160v-160H620v160Z\"/>\n",
              "  </svg>\n",
              "    </button>\n",
              "\n",
              "  <style>\n",
              "    .colab-df-container {\n",
              "      display:flex;\n",
              "      gap: 12px;\n",
              "    }\n",
              "\n",
              "    .colab-df-convert {\n",
              "      background-color: #E8F0FE;\n",
              "      border: none;\n",
              "      border-radius: 50%;\n",
              "      cursor: pointer;\n",
              "      display: none;\n",
              "      fill: #1967D2;\n",
              "      height: 32px;\n",
              "      padding: 0 0 0 0;\n",
              "      width: 32px;\n",
              "    }\n",
              "\n",
              "    .colab-df-convert:hover {\n",
              "      background-color: #E2EBFA;\n",
              "      box-shadow: 0px 1px 2px rgba(60, 64, 67, 0.3), 0px 1px 3px 1px rgba(60, 64, 67, 0.15);\n",
              "      fill: #174EA6;\n",
              "    }\n",
              "\n",
              "    .colab-df-buttons div {\n",
              "      margin-bottom: 4px;\n",
              "    }\n",
              "\n",
              "    [theme=dark] .colab-df-convert {\n",
              "      background-color: #3B4455;\n",
              "      fill: #D2E3FC;\n",
              "    }\n",
              "\n",
              "    [theme=dark] .colab-df-convert:hover {\n",
              "      background-color: #434B5C;\n",
              "      box-shadow: 0px 1px 3px 1px rgba(0, 0, 0, 0.15);\n",
              "      filter: drop-shadow(0px 1px 2px rgba(0, 0, 0, 0.3));\n",
              "      fill: #FFFFFF;\n",
              "    }\n",
              "  </style>\n",
              "\n",
              "    <script>\n",
              "      const buttonEl =\n",
              "        document.querySelector('#df-c66f49ae-5889-4c0e-aec2-0ebccf733f99 button.colab-df-convert');\n",
              "      buttonEl.style.display =\n",
              "        google.colab.kernel.accessAllowed ? 'block' : 'none';\n",
              "\n",
              "      async function convertToInteractive(key) {\n",
              "        const element = document.querySelector('#df-c66f49ae-5889-4c0e-aec2-0ebccf733f99');\n",
              "        const dataTable =\n",
              "          await google.colab.kernel.invokeFunction('convertToInteractive',\n",
              "                                                    [key], {});\n",
              "        if (!dataTable) return;\n",
              "\n",
              "        const docLinkHtml = 'Like what you see? Visit the ' +\n",
              "          '<a target=\"_blank\" href=https://colab.research.google.com/notebooks/data_table.ipynb>data table notebook</a>'\n",
              "          + ' to learn more about interactive tables.';\n",
              "        element.innerHTML = '';\n",
              "        dataTable['output_type'] = 'display_data';\n",
              "        await google.colab.output.renderOutput(dataTable, element);\n",
              "        const docLink = document.createElement('div');\n",
              "        docLink.innerHTML = docLinkHtml;\n",
              "        element.appendChild(docLink);\n",
              "      }\n",
              "    </script>\n",
              "  </div>\n",
              "\n",
              "\n",
              "<div id=\"df-5c1cae39-6318-486c-90e0-bdeb7973b0c8\">\n",
              "  <button class=\"colab-df-quickchart\" onclick=\"quickchart('df-5c1cae39-6318-486c-90e0-bdeb7973b0c8')\"\n",
              "            title=\"Suggest charts\"\n",
              "            style=\"display:none;\">\n",
              "\n",
              "<svg xmlns=\"http://www.w3.org/2000/svg\" height=\"24px\"viewBox=\"0 0 24 24\"\n",
              "     width=\"24px\">\n",
              "    <g>\n",
              "        <path d=\"M19 3H5c-1.1 0-2 .9-2 2v14c0 1.1.9 2 2 2h14c1.1 0 2-.9 2-2V5c0-1.1-.9-2-2-2zM9 17H7v-7h2v7zm4 0h-2V7h2v10zm4 0h-2v-4h2v4z\"/>\n",
              "    </g>\n",
              "</svg>\n",
              "  </button>\n",
              "\n",
              "<style>\n",
              "  .colab-df-quickchart {\n",
              "      --bg-color: #E8F0FE;\n",
              "      --fill-color: #1967D2;\n",
              "      --hover-bg-color: #E2EBFA;\n",
              "      --hover-fill-color: #174EA6;\n",
              "      --disabled-fill-color: #AAA;\n",
              "      --disabled-bg-color: #DDD;\n",
              "  }\n",
              "\n",
              "  [theme=dark] .colab-df-quickchart {\n",
              "      --bg-color: #3B4455;\n",
              "      --fill-color: #D2E3FC;\n",
              "      --hover-bg-color: #434B5C;\n",
              "      --hover-fill-color: #FFFFFF;\n",
              "      --disabled-bg-color: #3B4455;\n",
              "      --disabled-fill-color: #666;\n",
              "  }\n",
              "\n",
              "  .colab-df-quickchart {\n",
              "    background-color: var(--bg-color);\n",
              "    border: none;\n",
              "    border-radius: 50%;\n",
              "    cursor: pointer;\n",
              "    display: none;\n",
              "    fill: var(--fill-color);\n",
              "    height: 32px;\n",
              "    padding: 0;\n",
              "    width: 32px;\n",
              "  }\n",
              "\n",
              "  .colab-df-quickchart:hover {\n",
              "    background-color: var(--hover-bg-color);\n",
              "    box-shadow: 0 1px 2px rgba(60, 64, 67, 0.3), 0 1px 3px 1px rgba(60, 64, 67, 0.15);\n",
              "    fill: var(--button-hover-fill-color);\n",
              "  }\n",
              "\n",
              "  .colab-df-quickchart-complete:disabled,\n",
              "  .colab-df-quickchart-complete:disabled:hover {\n",
              "    background-color: var(--disabled-bg-color);\n",
              "    fill: var(--disabled-fill-color);\n",
              "    box-shadow: none;\n",
              "  }\n",
              "\n",
              "  .colab-df-spinner {\n",
              "    border: 2px solid var(--fill-color);\n",
              "    border-color: transparent;\n",
              "    border-bottom-color: var(--fill-color);\n",
              "    animation:\n",
              "      spin 1s steps(1) infinite;\n",
              "  }\n",
              "\n",
              "  @keyframes spin {\n",
              "    0% {\n",
              "      border-color: transparent;\n",
              "      border-bottom-color: var(--fill-color);\n",
              "      border-left-color: var(--fill-color);\n",
              "    }\n",
              "    20% {\n",
              "      border-color: transparent;\n",
              "      border-left-color: var(--fill-color);\n",
              "      border-top-color: var(--fill-color);\n",
              "    }\n",
              "    30% {\n",
              "      border-color: transparent;\n",
              "      border-left-color: var(--fill-color);\n",
              "      border-top-color: var(--fill-color);\n",
              "      border-right-color: var(--fill-color);\n",
              "    }\n",
              "    40% {\n",
              "      border-color: transparent;\n",
              "      border-right-color: var(--fill-color);\n",
              "      border-top-color: var(--fill-color);\n",
              "    }\n",
              "    60% {\n",
              "      border-color: transparent;\n",
              "      border-right-color: var(--fill-color);\n",
              "    }\n",
              "    80% {\n",
              "      border-color: transparent;\n",
              "      border-right-color: var(--fill-color);\n",
              "      border-bottom-color: var(--fill-color);\n",
              "    }\n",
              "    90% {\n",
              "      border-color: transparent;\n",
              "      border-bottom-color: var(--fill-color);\n",
              "    }\n",
              "  }\n",
              "</style>\n",
              "\n",
              "  <script>\n",
              "    async function quickchart(key) {\n",
              "      const quickchartButtonEl =\n",
              "        document.querySelector('#' + key + ' button');\n",
              "      quickchartButtonEl.disabled = true;  // To prevent multiple clicks.\n",
              "      quickchartButtonEl.classList.add('colab-df-spinner');\n",
              "      try {\n",
              "        const charts = await google.colab.kernel.invokeFunction(\n",
              "            'suggestCharts', [key], {});\n",
              "      } catch (error) {\n",
              "        console.error('Error during call to suggestCharts:', error);\n",
              "      }\n",
              "      quickchartButtonEl.classList.remove('colab-df-spinner');\n",
              "      quickchartButtonEl.classList.add('colab-df-quickchart-complete');\n",
              "    }\n",
              "    (() => {\n",
              "      let quickchartButtonEl =\n",
              "        document.querySelector('#df-5c1cae39-6318-486c-90e0-bdeb7973b0c8 button');\n",
              "      quickchartButtonEl.style.display =\n",
              "        google.colab.kernel.accessAllowed ? 'block' : 'none';\n",
              "    })();\n",
              "  </script>\n",
              "</div>\n",
              "\n",
              "    </div>\n",
              "  </div>\n"
            ],
            "application/vnd.google.colaboratory.intrinsic+json": {
              "type": "dataframe",
              "summary": "{\n  \"name\": \"df\",\n  \"rows\": 8,\n  \"fields\": [\n    {\n      \"column\": \"Store\",\n      \"properties\": {\n        \"dtype\": \"number\",\n        \"std\": 2267.530836160574,\n        \"min\": 1.0,\n        \"max\": 6435.0,\n        \"num_unique_values\": 7,\n        \"samples\": [\n          6435.0,\n          23.0,\n          34.0\n        ],\n        \"semantic_type\": \"\",\n        \"description\": \"\"\n      }\n    },\n    {\n      \"column\": \"Weekly_Sales\",\n      \"properties\": {\n        \"dtype\": \"number\",\n        \"std\": 1200219.5149406516,\n        \"min\": 6435.0,\n        \"max\": 3818686.45,\n        \"num_unique_values\": 8,\n        \"samples\": [\n          1046964.8775617715,\n          960746.04,\n          6435.0\n        ],\n        \"semantic_type\": \"\",\n        \"description\": \"\"\n      }\n    },\n    {\n      \"column\": \"Holiday_Flag\",\n      \"properties\": {\n        \"dtype\": \"number\",\n        \"std\": 2275.0491726398463,\n        \"min\": 0.0,\n        \"max\": 6435.0,\n        \"num_unique_values\": 5,\n        \"samples\": [\n          0.06993006993006994,\n          1.0,\n          0.25504894436982795\n        ],\n        \"semantic_type\": \"\",\n        \"description\": \"\"\n      }\n    },\n    {\n      \"column\": \"Temperature\",\n      \"properties\": {\n        \"dtype\": \"number\",\n        \"std\": 2257.0439834306026,\n        \"min\": -2.06,\n        \"max\": 6435.0,\n        \"num_unique_values\": 8,\n        \"samples\": [\n          60.66378243978244,\n          62.67,\n          6435.0\n        ],\n        \"semantic_type\": \"\",\n        \"description\": \"\"\n      }\n    },\n    {\n      \"column\": \"Fuel_Price\",\n      \"properties\": {\n        \"dtype\": \"number\",\n        \"std\": 2274.0622491841236,\n        \"min\": 0.4590197071928525,\n        \"max\": 6435.0,\n        \"num_unique_values\": 8,\n        \"samples\": [\n          3.358606837606838,\n          3.445,\n          6435.0\n        ],\n        \"semantic_type\": \"\",\n        \"description\": \"\"\n      }\n    },\n    {\n      \"column\": \"CPI\",\n      \"properties\": {\n        \"dtype\": \"number\",\n        \"std\": 2220.778606683361,\n        \"min\": 39.35671229566418,\n        \"max\": 6435.0,\n        \"num_unique_values\": 8,\n        \"samples\": [\n          171.57839384878014,\n          182.6165205,\n          6435.0\n        ],\n        \"semantic_type\": \"\",\n        \"description\": \"\"\n      }\n    },\n    {\n      \"column\": \"Unemployment\",\n      \"properties\": {\n        \"dtype\": \"number\",\n        \"std\": 2272.5201710166866,\n        \"min\": 1.8758847818627977,\n        \"max\": 6435.0,\n        \"num_unique_values\": 8,\n        \"samples\": [\n          7.99915104895105,\n          7.874,\n          6435.0\n        ],\n        \"semantic_type\": \"\",\n        \"description\": \"\"\n      }\n    }\n  ]\n}"
            }
          },
          "metadata": {},
          "execution_count": 184
        }
      ]
    },
    {
      "cell_type": "code",
      "source": [
        "df.info()"
      ],
      "metadata": {
        "colab": {
          "base_uri": "https://localhost:8080/"
        },
        "id": "xx2WUAo--w3n",
        "outputId": "45f04680-5772-4ff3-c17a-c560291da67a"
      },
      "execution_count": null,
      "outputs": [
        {
          "output_type": "stream",
          "name": "stdout",
          "text": [
            "<class 'pandas.core.frame.DataFrame'>\n",
            "RangeIndex: 6435 entries, 0 to 6434\n",
            "Data columns (total 10 columns):\n",
            " #   Column        Non-Null Count  Dtype  \n",
            "---  ------        --------------  -----  \n",
            " 0   Store         6435 non-null   int64  \n",
            " 1   Weekly_Sales  6435 non-null   float64\n",
            " 2   Holiday_Flag  6435 non-null   int64  \n",
            " 3   Temperature   6435 non-null   float64\n",
            " 4   Fuel_Price    6435 non-null   float64\n",
            " 5   CPI           6435 non-null   float64\n",
            " 6   Unemployment  6435 non-null   float64\n",
            " 7   Day           6435 non-null   object \n",
            " 8   Month         6435 non-null   object \n",
            " 9   Dates         6435 non-null   object \n",
            "dtypes: float64(5), int64(2), object(3)\n",
            "memory usage: 502.9+ KB\n"
          ]
        }
      ]
    },
    {
      "cell_type": "code",
      "source": [
        "y = df['Weekly_Sales'].values #supervised learning needs labels and features index, extract values for numpy array from column #takes out weekly sales?"
      ],
      "metadata": {
        "id": "0MFiK84--zo_"
      },
      "execution_count": null,
      "outputs": []
    },
    {
      "cell_type": "code",
      "source": [
        "type(y)"
      ],
      "metadata": {
        "colab": {
          "base_uri": "https://localhost:8080/"
        },
        "id": "vlbbTo2G-4-Q",
        "outputId": "a91c33d0-81ef-4220-c01c-32b0d091c4f8"
      },
      "execution_count": null,
      "outputs": [
        {
          "output_type": "execute_result",
          "data": {
            "text/plain": [
              "numpy.ndarray"
            ]
          },
          "metadata": {},
          "execution_count": 187
        }
      ]
    },
    {
      "cell_type": "code",
      "source": [
        "y.shape"
      ],
      "metadata": {
        "colab": {
          "base_uri": "https://localhost:8080/"
        },
        "id": "Z3LUkUsB-8fA",
        "outputId": "aecc9494-6cb4-407f-c34e-a77531a1ae0a"
      },
      "execution_count": null,
      "outputs": [
        {
          "output_type": "execute_result",
          "data": {
            "text/plain": [
              "(6435,)"
            ]
          },
          "metadata": {},
          "execution_count": 188
        }
      ]
    },
    {
      "cell_type": "code",
      "source": [
        "y[:5] #first 5 index values; 0-4 #weights large mean square loss may overflow (compared to describe)"
      ],
      "metadata": {
        "colab": {
          "base_uri": "https://localhost:8080/"
        },
        "id": "kh_tt9l9_CaQ",
        "outputId": "6c0be8ac-4ca9-4b46-ece3-0d6a1e8f7f7c"
      },
      "execution_count": null,
      "outputs": [
        {
          "output_type": "execute_result",
          "data": {
            "text/plain": [
              "array([1643690.9 , 1641957.44, 1611968.17, 1409727.59, 1554806.68])"
            ]
          },
          "metadata": {},
          "execution_count": 189
        }
      ]
    },
    {
      "cell_type": "code",
      "source": [
        "y_scaled = y/100000 #scalar values? --> scale down values"
      ],
      "metadata": {
        "id": "v9n9MmVB_TLb"
      },
      "execution_count": null,
      "outputs": []
    },
    {
      "cell_type": "code",
      "source": [
        "y_scaled #called, then prints auto? diff unit from scaled val, no impact on model scale down to prevent large nums arbitrary"
      ],
      "metadata": {
        "colab": {
          "base_uri": "https://localhost:8080/"
        },
        "id": "xL6QtEZP_XUS",
        "outputId": "4c95809c-cb5b-406d-c788-f50cd6127534"
      },
      "execution_count": null,
      "outputs": [
        {
          "output_type": "execute_result",
          "data": {
            "text/plain": [
              "array([16.436909 , 16.4195744, 16.1196817, ...,  7.3446436,  7.1812553,\n",
              "        7.6028143])"
            ]
          },
          "metadata": {},
          "execution_count": 191
        }
      ]
    },
    {
      "cell_type": "code",
      "source": [
        "X = df.iloc[:, [0,2,3,4,5,6]].values #index location in perceptron, selects all rows, columns with indexes (skip 1 Weekly_Sales, total 6) use to predit y\n",
        "#execute command print(X)"
      ],
      "metadata": {
        "id": "-bdcFh3h_bma"
      },
      "execution_count": null,
      "outputs": []
    },
    {
      "cell_type": "code",
      "source": [
        "plt.hist(X[:, 4]) #takes line above and then what? all rows, fourth column fuel price #CPI #normalize = not abs val, but relative to sth else 5-6 ft, divide by min/subtract mean val val center around origin"
      ],
      "metadata": {
        "colab": {
          "base_uri": "https://localhost:8080/",
          "height": 534
        },
        "id": "tvmIKAUIAMmf",
        "outputId": "dda8a0d1-35e1-4fda-85c8-321b839f5d1f"
      },
      "execution_count": null,
      "outputs": [
        {
          "output_type": "execute_result",
          "data": {
            "text/plain": [
              "(array([2264.,  882.,    0.,    0.,    0.,  168.,  538.,  331., 1361.,\n",
              "         891.]),\n",
              " array([126.064     , 136.18088068, 146.29776136, 156.41464204,\n",
              "        166.53152272, 176.6484034 , 186.76528408, 196.88216476,\n",
              "        206.99904544, 217.11592612, 227.2328068 ]),\n",
              " <BarContainer object of 10 artists>)"
            ]
          },
          "metadata": {},
          "execution_count": 193
        },
        {
          "output_type": "display_data",
          "data": {
            "text/plain": [
              "<Figure size 640x480 with 1 Axes>"
            ],
            "image/png": "[encoded data removed]"
          },
          "metadata": {}
        }
      ]
    },
    {
      "cell_type": "code",
      "source": [
        "x = X.copy() #make copy to keep original and also create new dataset to manpulate data #df.drop(['Date'], axis=1, inplace=True) different function drops column rather than create new copy"
      ],
      "metadata": {
        "id": "_8rc_FN_A5XZ"
      },
      "execution_count": null,
      "outputs": []
    },
    {
      "cell_type": "code",
      "source": [
        "cpi_norm = np.linalg.norm(X[:, 4]) # root of sum of squares #what for? error term avg val norm"
      ],
      "metadata": {
        "id": "qGlpoKbHBMKK"
      },
      "execution_count": null,
      "outputs": []
    },
    {
      "cell_type": "code",
      "source": [
        "x[:, 4] = x[:, 4] / cpi_norm #setting equal to for what purpose?"
      ],
      "metadata": {
        "id": "icd7J9Q4BSJi"
      },
      "execution_count": null,
      "outputs": []
    },
    {
      "cell_type": "code",
      "source": [
        "x[:5] #calls 5x5 matrix? #scaled down norm"
      ],
      "metadata": {
        "colab": {
          "base_uri": "https://localhost:8080/"
        },
        "id": "sLV513GtBj03",
        "outputId": "05e3b027-d568-4bb7-dbe2-4c94647274e4"
      },
      "execution_count": null,
      "outputs": [
        {
          "output_type": "execute_result",
          "data": {
            "text/plain": [
              "array([[1.00000000e+00, 0.00000000e+00, 4.23100000e+01, 2.57200000e+00,\n",
              "        1.49489506e-02, 8.10600000e+00],\n",
              "       [1.00000000e+00, 1.00000000e+00, 3.85100000e+01, 2.54800000e+00,\n",
              "        1.49592763e-02, 8.10600000e+00],\n",
              "       [1.00000000e+00, 0.00000000e+00, 3.99300000e+01, 2.51400000e+00,\n",
              "        1.49626028e-02, 8.10600000e+00],\n",
              "       [1.00000000e+00, 0.00000000e+00, 4.66300000e+01, 2.56100000e+00,\n",
              "        1.49647626e-02, 8.10600000e+00],\n",
              "       [1.00000000e+00, 0.00000000e+00, 4.65000000e+01, 2.62500000e+00,\n",
              "        1.49669225e-02, 8.10600000e+00]])"
            ]
          },
          "metadata": {},
          "execution_count": 197
        }
      ]
    },
    {
      "cell_type": "code",
      "source": [
        "rows = X.shape[0]\n",
        "#total number print(rows)"
      ],
      "metadata": {
        "id": "WONDdcVLBt2T"
      },
      "execution_count": null,
      "outputs": []
    },
    {
      "cell_type": "code",
      "source": [
        "#X_new = np.hstack(((np.ones((rows,1))), x))# Adding one more column for bias\n",
        "X_new = x.copy()"
      ],
      "metadata": {
        "id": "nNiQyxdIByiK"
      },
      "execution_count": null,
      "outputs": []
    },
    {
      "cell_type": "code",
      "source": [
        "X_new.shape"
      ],
      "metadata": {
        "colab": {
          "base_uri": "https://localhost:8080/"
        },
        "id": "xnDH3GQXB2Qz",
        "outputId": "5cbec289-ddd4-4b87-8c2f-4214b584c9d6"
      },
      "execution_count": null,
      "outputs": [
        {
          "output_type": "execute_result",
          "data": {
            "text/plain": [
              "(6435, 6)"
            ]
          },
          "metadata": {},
          "execution_count": 200
        }
      ]
    },
    {
      "cell_type": "code",
      "source": [
        "np.random.seed(42) # Let's set the zero for time being\n",
        "theta = np.random.randn(1,X_new.shape[1]) # Setting values of theta randomly\n",
        "\n",
        "#print(\"Theta : %s\" % (theta))"
      ],
      "metadata": {
        "id": "ZidgZbsafXWr"
      },
      "execution_count": null,
      "outputs": []
    },
    {
      "cell_type": "code",
      "source": [
        "theta.shape"
      ],
      "metadata": {
        "colab": {
          "base_uri": "https://localhost:8080/"
        },
        "id": "Pg_E7_MeCR8c",
        "outputId": "492b170c-55a7-4b55-f7cf-e1d015945cca"
      },
      "execution_count": null,
      "outputs": [
        {
          "output_type": "execute_result",
          "data": {
            "text/plain": [
              "(1, 6)"
            ]
          },
          "metadata": {},
          "execution_count": 202
        }
      ]
    },
    {
      "cell_type": "code",
      "source": [
        "# this is the model\n",
        "theta #float"
      ],
      "metadata": {
        "colab": {
          "base_uri": "https://localhost:8080/"
        },
        "id": "6nQKiHxJrVGK",
        "outputId": "8a04309c-f8d2-4eef-eb83-c78029e07228"
      },
      "execution_count": null,
      "outputs": [
        {
          "output_type": "execute_result",
          "data": {
            "text/plain": [
              "array([[ 0.49671415, -0.1382643 ,  0.64768854,  1.52302986, -0.23415337,\n",
              "        -0.23413696]])"
            ]
          },
          "metadata": {},
          "execution_count": 203
        }
      ]
    },
    {
      "cell_type": "code",
      "source": [
        "y_hat = np.dot(X_new, theta.T)"
      ],
      "metadata": {
        "id": "O24INxI8Czt5"
      },
      "execution_count": null,
      "outputs": []
    },
    {
      "cell_type": "code",
      "source": [
        "y_hat.shape"
      ],
      "metadata": {
        "colab": {
          "base_uri": "https://localhost:8080/"
        },
        "id": "XIo3NXaKCr8k",
        "outputId": "d553c624-5f5a-43b9-b8c2-58ae0960909d"
      },
      "execution_count": null,
      "outputs": [
        {
          "output_type": "execute_result",
          "data": {
            "text/plain": [
              "(6435, 1)"
            ]
          },
          "metadata": {},
          "execution_count": 205
        }
      ]
    },
    {
      "cell_type": "code",
      "source": [
        "y_hat[:5] #array of arrays"
      ],
      "metadata": {
        "colab": {
          "base_uri": "https://localhost:8080/"
        },
        "id": "cX0cdM50C1y5",
        "outputId": "52955349-b695-48e5-d4d9-b1a35c22816e"
      },
      "execution_count": null,
      "outputs": [
        {
          "output_type": "execute_result",
          "data": {
            "text/plain": [
              "array([[29.91623447],\n",
              "       [27.28019859],\n",
              "       [28.28639682],\n",
              "       [32.69749192],\n",
              "       [32.71076582]])"
            ]
          },
          "metadata": {},
          "execution_count": 206
        }
      ]
    },
    {
      "cell_type": "code",
      "source": [
        "error = y_hat.ravel() - y_scaled #unravels, remove first array becomes 6435"
      ],
      "metadata": {
        "id": "4a-xGebAC2wp"
      },
      "execution_count": null,
      "outputs": []
    },
    {
      "cell_type": "code",
      "source": [
        "error.shape #just vector not matrix , 1"
      ],
      "metadata": {
        "colab": {
          "base_uri": "https://localhost:8080/"
        },
        "id": "McY1xD1FEn0t",
        "outputId": "6ff2abbc-5319-4fbd-a42a-a6800f3e29e2"
      },
      "execution_count": null,
      "outputs": [
        {
          "output_type": "execute_result",
          "data": {
            "text/plain": [
              "(6435,)"
            ]
          },
          "metadata": {},
          "execution_count": 208
        }
      ]
    },
    {
      "cell_type": "code",
      "source": [
        "error.reshape(1,rows).shape"
      ],
      "metadata": {
        "colab": {
          "base_uri": "https://localhost:8080/"
        },
        "id": "hjEVcAgBEpeV",
        "outputId": "599b833a-42ed-4903-d31d-56b96728e016"
      },
      "execution_count": null,
      "outputs": [
        {
          "output_type": "execute_result",
          "data": {
            "text/plain": [
              "(1, 6435)"
            ]
          },
          "metadata": {},
          "execution_count": 209
        }
      ]
    },
    {
      "cell_type": "code",
      "source": [
        "error[:5] #numbers are different than example"
      ],
      "metadata": {
        "colab": {
          "base_uri": "https://localhost:8080/"
        },
        "id": "WMe4nmGrEq2t",
        "outputId": "a991fc19-8135-4d73-c6eb-b8099b238549"
      },
      "execution_count": null,
      "outputs": [
        {
          "output_type": "execute_result",
          "data": {
            "text/plain": [
              "array([13.47932547, 10.86062419, 12.16671512, 18.60021602, 17.16269902])"
            ]
          },
          "metadata": {},
          "execution_count": 210
        }
      ]
    },
    {
      "cell_type": "code",
      "source": [
        "squared_error = error ** 2"
      ],
      "metadata": {
        "id": "wExygP-fEsqV"
      },
      "execution_count": null,
      "outputs": []
    },
    {
      "cell_type": "code",
      "source": [
        "squared_error_sum = np.sum(squared_error)"
      ],
      "metadata": {
        "id": "kr5cbYFPFUO7"
      },
      "execution_count": null,
      "outputs": []
    },
    {
      "cell_type": "code",
      "source": [
        "squared_error_sum"
      ],
      "metadata": {
        "colab": {
          "base_uri": "https://localhost:8080/"
        },
        "id": "BstLUzIlFWVr",
        "outputId": "f897d4ed-7651-4c97-8eed-e68058c2ff86"
      },
      "execution_count": null,
      "outputs": [
        {
          "output_type": "execute_result",
          "data": {
            "text/plain": [
              "13749797.952073341"
            ]
          },
          "metadata": {},
          "execution_count": 213
        }
      ]
    },
    {
      "cell_type": "code",
      "source": [
        "1/(2 * rows) * squared_error_sum #avg"
      ],
      "metadata": {
        "colab": {
          "base_uri": "https://localhost:8080/"
        },
        "id": "SQ62hhmRFYXr",
        "outputId": "9c26b941-6572-4413-ee6c-2b7c863a10bd"
      },
      "execution_count": null,
      "outputs": [
        {
          "output_type": "execute_result",
          "data": {
            "text/plain": [
              "1068.360369236468"
            ]
          },
          "metadata": {},
          "execution_count": 214
        }
      ]
    },
    {
      "cell_type": "code",
      "source": [
        "iteration = 100000\n",
        "learning_rate = 0.0003\n",
        "J = np.zeros(iteration)\n",
        "#odd --> learning_rate not defined"
      ],
      "metadata": {
        "id": "tc6XNDX8AajM"
      },
      "execution_count": null,
      "outputs": []
    },
    {
      "cell_type": "code",
      "source": [
        "update = ((learning_rate/rows) * np.dot(error.reshape(1,rows), X)) #Mr. S code have some errors but still work? also not consistent #derivative of loss fun updated by vals"
      ],
      "metadata": {
        "id": "C_zpNtKTFbz1"
      },
      "execution_count": null,
      "outputs": []
    },
    {
      "cell_type": "code",
      "source": [
        "update.ravel()"
      ],
      "metadata": {
        "id": "tQK-UdW7GCao",
        "colab": {
          "base_uri": "https://localhost:8080/"
        },
        "outputId": "965d113b-c17f-4e72-a864-d5faa59214b4"
      },
      "execution_count": null,
      "outputs": [
        {
          "output_type": "execute_result",
          "data": {
            "text/plain": [
              "array([3.31217003e-01, 7.47151785e-04, 8.58847113e-01, 4.41886824e-02,\n",
              "       2.25183739e+00, 1.05898701e-01])"
            ]
          },
          "metadata": {},
          "execution_count": 217
        }
      ]
    },
    {
      "cell_type": "code",
      "source": [
        "#import matplotlib.pyplot as plt # data plotting"
      ],
      "metadata": {
        "id": "dvUJI3iZ8DBK"
      },
      "execution_count": null,
      "outputs": []
    },
    {
      "cell_type": "markdown",
      "source": [
        "# **Fix code downward (learning rate, etc)**"
      ],
      "metadata": {
        "id": "4WqHtWMkHI8Z"
      }
    },
    {
      "cell_type": "code",
      "source": [
        "theta = np.random.randn(1,X_new.shape[1]) # Setting values of theta randomly #learn rate + iter make diff\n",
        "\n",
        "iteration = 100000\n",
        "learning_rate = 0.0003\n",
        "J = np.zeros(iteration)\n",
        "\n",
        "# Let's train our model to compute values of theta\n",
        "for i in range(iteration):\n",
        "    # the predicted value is what we call y_hat\n",
        "    y_hat = np.dot(X_new, theta.T) #transpose matrix, one-shot multiplication of matrixes to get error\n",
        "    # the residue, or the error term is difference between what the\n",
        "    # prediction was and what the true value is\n",
        "    error = y_hat.ravel() - y_scaled\n",
        "    # we square the error (MSE) - why? to find error (largest in larger values)\n",
        "    squared_error = error ** 2\n",
        "    # now we sum up the error across all samples\n",
        "    squared_error_mean = np.mean(np.sum(squared_error))\n",
        "    # we take the mean of this accumulated error\n",
        "    J[i] = squared_error_mean\n",
        "    # this is the update rule -\n",
        "    # we correct our estimate (theta) by a small faction of the gradient\n",
        "    # gradient caclulation requires calculus - the\n",
        "    update = ((learning_rate/rows) * np.dot(error.reshape(1,rows), X))\n",
        "    theta -= update.ravel()\n",
        "    #learning rate 0.003; slow rate of movement down curve to get down to min value to avoid skipping of values\n",
        "\n",
        "prediction = np.round(np.dot(X_new, theta.T)) #w final set of theta asymptotes but not 0\n",
        "\n",
        "ax = plt.subplot(111)\n",
        "ax.plot(np.arange(iteration), np.log(J))\n",
        "ax.set_ylim([0,int(np.max(np.log(J)))]) #((0,(max(J)*1.05)))\n",
        "plt.ylabel(\"Cost Values\", color=\"Green\")\n",
        "plt.xlabel(\"No. of Iterations\", color=\"Green\")\n",
        "plt.title(\"Mean Squared Error vs Iterations\")\n",
        "plt.show()"
      ],
      "metadata": {
        "colab": {
          "base_uri": "https://localhost:8080/",
          "height": 472
        },
        "id": "ys45In4drXqp",
        "outputId": "373984ce-a293-40e6-f507-950f90089e2b"
      },
      "execution_count": null,
      "outputs": [
        {
          "output_type": "display_data",
          "data": {
            "text/plain": [
              "<Figure size 640x480 with 1 Axes>"
            ],
            "image/png": "[encoded data removed]"
          },
          "metadata": {}
        }
      ]
    },
    {
      "cell_type": "code",
      "source": [
        "theta #weights CPI influence on sales"
      ],
      "metadata": {
        "colab": {
          "base_uri": "https://localhost:8080/"
        },
        "id": "GyD9lkrfGUhy",
        "outputId": "30f80f41-bdf5-4d89-b0a2-e632543de38b"
      },
      "execution_count": null,
      "outputs": [
        {
          "output_type": "execute_result",
          "data": {
            "text/plain": [
              "array([[-1.37156279e-01,  1.20928997e+00, -9.58968404e-03,\n",
              "         2.99916557e+00,  1.12855251e+02,  3.16021748e-01]])"
            ]
          },
          "metadata": {},
          "execution_count": 220
        }
      ]
    },
    {
      "cell_type": "code",
      "source": [
        "J[:-10] #loss"
      ],
      "metadata": {
        "id": "d2I-2VCaGW5J",
        "colab": {
          "base_uri": "https://localhost:8080/"
        },
        "outputId": "8c11b81f-40bc-42d0-ab1f-80bbb12f962f"
      },
      "execution_count": null,
      "outputs": [
        {
          "output_type": "execute_result",
          "data": {
            "text/plain": [
              "array([3994535.59870664, 3453644.64938795, 3080436.17306412, ...,\n",
              "        195084.68555659,  195084.68549734,  195084.68543808])"
            ]
          },
          "metadata": {},
          "execution_count": 221
        }
      ]
    },
    {
      "cell_type": "code",
      "source": [
        "mse = np.sum(np.sqrt((prediction - y_hat)**2)/float(len(y_scaled)) * 100)\n",
        "print(\"The model predicted values of Walmart dataset with an overall MSE of %s\" % (mse))"
      ],
      "metadata": {
        "id": "27HOymmWG-Hm",
        "colab": {
          "base_uri": "https://localhost:8080/"
        },
        "outputId": "a2db7044-f91a-4a43-8da6-7b4e0a8870ae"
      },
      "execution_count": null,
      "outputs": [
        {
          "output_type": "stream",
          "name": "stdout",
          "text": [
            "The model predicted values of Walmart dataset with an overall MSE of 24.822020342333253\n"
          ]
        }
      ]
    },
    {
      "cell_type": "code",
      "source": [
        "prediction"
      ],
      "metadata": {
        "id": "QDuFUFf5G-uO",
        "colab": {
          "base_uri": "https://localhost:8080/"
        },
        "outputId": "c9155519-f809-4050-c92d-196e8f6daedc"
      },
      "execution_count": null,
      "outputs": [
        {
          "output_type": "execute_result",
          "data": {
            "text/plain": [
              "array([[11.],\n",
              "       [13.],\n",
              "       [11.],\n",
              "       ...,\n",
              "       [10.],\n",
              "       [ 9.],\n",
              "       [ 9.]])"
            ]
          },
          "metadata": {},
          "execution_count": 223
        }
      ]
    },
    {
      "cell_type": "code",
      "source": [
        "y_scaled #act val distribution"
      ],
      "metadata": {
        "id": "oTW4g0dAHANm",
        "colab": {
          "base_uri": "https://localhost:8080/"
        },
        "outputId": "8317a4a4-4975-48e4-908c-29f368f5ca95"
      },
      "execution_count": null,
      "outputs": [
        {
          "output_type": "execute_result",
          "data": {
            "text/plain": [
              "array([16.436909 , 16.4195744, 16.1196817, ...,  7.3446436,  7.1812553,\n",
              "        7.6028143])"
            ]
          },
          "metadata": {},
          "execution_count": 224
        }
      ]
    },
    {
      "cell_type": "code",
      "source": [
        "differences = np.abs(prediction - y_scaled)"
      ],
      "metadata": {
        "id": "-pp8mdH-HBxQ"
      },
      "execution_count": null,
      "outputs": []
    },
    {
      "cell_type": "code",
      "source": [
        "# Create a figure and axis\n",
        "fig, ax = plt.subplots()\n",
        "\n",
        "# Plot the points\n",
        "ax.scatter(range(len(prediction)), prediction, color='blue', label='prediction')\n",
        "ax.scatter(range(len(y_scaled)), y_scaled, color='red', label='sales (scaled)')\n",
        "\n",
        "# Set labels and title\n",
        "ax.set_xlabel('Index')\n",
        "ax.set_ylabel('Value')\n",
        "ax.set_title('Plot of Two Arrays with Distances')\n",
        "ax.legend()\n",
        "\n",
        "# Show the plot\n",
        "plt.show()\n",
        "\n",
        "#ax = plt.subplot(111)\n",
        "\n",
        "#ax.plot(np.arange(1, 6436, 1), y, label='Orignal value', color='red')\n",
        "#ax.scatter(np.arange(1, 6436, 1), prediction, label='Predicted Value')\n",
        "\n",
        "#plt.xlabel(\"Dataset size\", color=\"Green\")\n",
        "#plt.ylabel(\"Iris Flower (1-3)\", color=\"Green\")\n",
        "#plt.title(\"Iris Flower (setosa = 1, versicolor = 2, virginica = 3)\")\n",
        "\n",
        "#ax.legend()\n",
        "#plt.show()\n",
        "#linear regression, linear model not linear in nature model not suited to data trying to fit accuracy metric does not work"
      ],
      "metadata": {
        "colab": {
          "base_uri": "https://localhost:8080/",
          "height": 472
        },
        "id": "VnLYuV2Xr3gb",
        "outputId": "31f8faf7-99e9-4d85-f977-0ffe1e0af498"
      },
      "execution_count": null,
      "outputs": [
        {
          "output_type": "display_data",
          "data": {
            "text/plain": [
              "<Figure size 640x480 with 1 Axes>"
            ],
            "image/png": "[encoded data removed]"
          },
          "metadata": {}
        }
      ]
    },
    {
      "cell_type": "markdown",
      "source": [
        "# **Next few lines of code are not needed notes**"
      ],
      "metadata": {
        "id": "s7LUM7PKD3-G"
      }
    },
    {
      "cell_type": "code",
      "source": [
        "#type(walmart) not really needed in this"
      ],
      "metadata": {
        "id": "6G_JApPCSbUr"
      },
      "execution_count": null,
      "outputs": []
    },
    {
      "cell_type": "code",
      "source": [
        "#import numpy as np # linear algebra\n",
        "#import seaborn as sns # data visualisation and plotting\n",
        "#import matplotlib.pyplot as plt # data plotting\n",
        "#import warnings\n",
        "\n",
        "# Seaborn default configuration\n",
        "#sns.set_style(\"darkgrid\")\n",
        "\n",
        "# set the custom size for my graphs\n",
        "#sns.set(rc={'figure.figsize':(8.7,6.27)})\n",
        "\n",
        "# filter all warnings\n",
        "#warnings.filterwarnings('ignore')\n",
        "\n",
        "# set max column to 999 for displaying in pandas\n",
        "#pd.options.display.max_columns=999\n",
        "\n",
        "# Input data files are available in the \"../input/\" directory.\n",
        "# For example, running this (by clicking run or pressing Shift+Enter) will list the files in the input directory"
      ],
      "metadata": {
        "id": "0ARZzMO8SiZh"
      },
      "execution_count": null,
      "outputs": []
    },
    {
      "cell_type": "code",
      "source": [
        "#df['Weekly_Sales'].value_counts() #y species, x target corresponds with y date, x weekly sales"
      ],
      "metadata": {
        "id": "nGxN2XYfTeNH"
      },
      "execution_count": null,
      "outputs": []
    },
    {
      "cell_type": "code",
      "source": [
        "#rows, col = data.shape\n",
        "#print(\"Rows : %s, column : %s\" % (rows, col))"
      ],
      "metadata": {
        "id": "Y63o8-AbV2t5"
      },
      "execution_count": null,
      "outputs": []
    },
    {
      "cell_type": "code",
      "source": [
        "#data = data[data['Weekly_Sales'].notnull()]"
      ],
      "metadata": {
        "id": "TDrQbAGuV-FJ"
      },
      "execution_count": null,
      "outputs": []
    },
    {
      "cell_type": "code",
      "source": [
        "#snsdata = data.drop('Date', axis=1)\n",
        "#g = sns.pairplot(snsdata, hue='Weekly_Sales', markers='x')\n",
        "#g = g.map_upper(plt.scatter)\n",
        "#g = g.map_lower(sns.kdeplot)"
      ],
      "metadata": {
        "id": "sOgwxbn3WEzh"
      },
      "execution_count": null,
      "outputs": []
    },
    {
      "cell_type": "code",
      "source": [
        "#data.columns"
      ],
      "metadata": {
        "id": "nCssl94FWSuI"
      },
      "execution_count": null,
      "outputs": []
    },
    {
      "cell_type": "code",
      "source": [
        "#sns.violinplot(x=data.columns[0], y='Weekly_Sales', data=data, inner='stick', palette='autumn')\n",
        "#plt.show()\n",
        "#sns.violinplot(x=data.columns[1], y='Weekly_Sales', data=data, inner='stick', palette='autumn')\n",
        "#plt.show()\n",
        "#sns.violinplot(x=data.columns[2], y='Weekly_Sales', data=data, inner='stick', palette='autumn')\n",
        "#plt.show()\n",
        "#sns.violinplot(x=data.columns[3], y='Weekly_Sales', data=data, inner='stick', palette='autumn')\n",
        "#plt.show()"
      ],
      "metadata": {
        "id": "mQxs4npRWTQ3"
      },
      "execution_count": null,
      "outputs": []
    },
    {
      "cell_type": "code",
      "source": [
        "#mapping = {\n",
        "    #'Store' : 1,\n",
        "    #'Date' : 2,\n",
        "    #'Weekly_Sales' : 3,\n",
        "    #'Holiday_Flag' : 4,\n",
        "    #'Temperature' : 5,\n",
        "    #'Fuel_Price' : 6,\n",
        "    #'CPI' : 7,\n",
        "    #'Unemployment' : 8\n",
        "#}\n",
        "\n",
        "#X = data.drop(['Date', 'Weekly_Sales'], axis=1).values # Input Feature Values\n",
        "#y = data.Weekly_Sales.replace(mapping).values.reshape(rows,1) # Output values\n",
        "\n",
        "#X = np.hstack(((np.ones((rows,1))), X))# Adding one more column for bias"
      ],
      "metadata": {
        "id": "5F34XK-Ic0h_"
      },
      "execution_count": null,
      "outputs": []
    },
    {
      "cell_type": "code",
      "source": [
        "#iteration = 10000\n",
        "#learning_rate = 0.0000004 # ~ 0.007, 0.005, originally 0.003 If you are going by formula, this is actually alpha. based on < derivative\n",
        "#J = np.zeros(iteration) # 1 x 10000 maxtix"
      ],
      "metadata": {
        "id": "Y0LU3jIifZLL"
      },
      "execution_count": null,
      "outputs": []
    },
    {
      "cell_type": "code",
      "source": [
        "#accuracy = (sum(prediction == y)/float(len(y)) * 100)[0]\n",
        "#print(\"The model predicted values of Iris dataset with an overall accuracy of %s\" % (accuracy))"
      ],
      "metadata": {
        "id": "-DeeCk_8r4rp"
      },
      "execution_count": null,
      "outputs": []
    }
  ]
}