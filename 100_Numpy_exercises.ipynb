{
  "cells": [
    {
      "cell_type": "markdown",
      "metadata": {
        "id": "view-in-github",
        "colab_type": "text"
      },
      "source": [
        "<a href=\"https://colab.research.google.com/github/valren-enforcer/ML-Internship/blob/main/100_Numpy_exercises.ipynb\" target=\"_parent\"><img src=\"https://colab.research.google.com/assets/colab-badge.svg\" alt=\"Open In Colab\"/></a>"
      ]
    },
    {
      "cell_type": "markdown",
      "id": "6293cc50",
      "metadata": {
        "id": "6293cc50"
      },
      "source": [
        "# 100 numpy exercises\n",
        "\n",
        "This is a collection of exercises that have been collected in the numpy mailing list, on stack overflow\n",
        "and in the numpy documentation. The goal of this collection is to offer a quick reference for both old\n",
        "and new users but also to provide a set of exercises for those who teach.\n",
        "\n",
        "\n",
        "If you find an error or think you've a better way to solve some of them, feel\n",
        "free to open an issue at <https://github.com/rougier/numpy-100>."
      ]
    },
    {
      "cell_type": "markdown",
      "id": "a167c052",
      "metadata": {
        "id": "a167c052"
      },
      "source": [
        "File automatically generated. See the documentation to update questions/answers/hints programmatically."
      ]
    },
    {
      "cell_type": "markdown",
      "id": "57fc0ee5",
      "metadata": {
        "id": "57fc0ee5"
      },
      "source": [
        "Run the `initialize.py` module, then for each question you can query the\n",
        "answer or an hint with `hint(n)` or `answer(n)` for `n` question number."
      ]
    },
    {
      "cell_type": "code",
      "execution_count": null,
      "id": "3d46fba2",
      "metadata": {
        "id": "3d46fba2"
      },
      "outputs": [],
      "source": [
        "%run initialise.py #https://github.com/rougier/numpy-100/blob/master/100_Numpy_exercises_with_hints_with_solutions.md #no source/folder no need in generators"
      ]
    },
    {
      "cell_type": "markdown",
      "id": "3c1222ff",
      "metadata": {
        "id": "3c1222ff"
      },
      "source": [
        "#### 1. Import the numpy package under the name `np` (★☆☆)"
      ]
    },
    {
      "cell_type": "code",
      "execution_count": null,
      "id": "f52e6a0b",
      "metadata": {
        "id": "f52e6a0b"
      },
      "outputs": [],
      "source": [
        "import numpy as np"
      ]
    },
    {
      "cell_type": "markdown",
      "id": "9d9f4753",
      "metadata": {
        "id": "9d9f4753"
      },
      "source": [
        "#### 2. Print the numpy version and the configuration (★☆☆)"
      ]
    },
    {
      "cell_type": "code",
      "execution_count": null,
      "id": "b7fa5fa1",
      "metadata": {
        "colab": {
          "base_uri": "https://localhost:8080/"
        },
        "id": "b7fa5fa1",
        "outputId": "5c8c0b10-9a10-42d5-9b75-219e3b1308d8"
      },
      "outputs": [
        {
          "output_type": "stream",
          "name": "stdout",
          "text": [
            "<module 'numpy' from '/usr/local/lib/python3.10/dist-packages/numpy/__init__.py'>\n",
            "openblas64__info:\n",
            "    libraries = ['openblas64_', 'openblas64_']\n",
            "    library_dirs = ['/usr/local/lib']\n",
            "    language = c\n",
            "    define_macros = [('HAVE_CBLAS', None), ('BLAS_SYMBOL_SUFFIX', '64_'), ('HAVE_BLAS_ILP64', None)]\n",
            "    runtime_library_dirs = ['/usr/local/lib']\n",
            "blas_ilp64_opt_info:\n",
            "    libraries = ['openblas64_', 'openblas64_']\n",
            "    library_dirs = ['/usr/local/lib']\n",
            "    language = c\n",
            "    define_macros = [('HAVE_CBLAS', None), ('BLAS_SYMBOL_SUFFIX', '64_'), ('HAVE_BLAS_ILP64', None)]\n",
            "    runtime_library_dirs = ['/usr/local/lib']\n",
            "openblas64__lapack_info:\n",
            "    libraries = ['openblas64_', 'openblas64_']\n",
            "    library_dirs = ['/usr/local/lib']\n",
            "    language = c\n",
            "    define_macros = [('HAVE_CBLAS', None), ('BLAS_SYMBOL_SUFFIX', '64_'), ('HAVE_BLAS_ILP64', None), ('HAVE_LAPACKE', None)]\n",
            "    runtime_library_dirs = ['/usr/local/lib']\n",
            "lapack_ilp64_opt_info:\n",
            "    libraries = ['openblas64_', 'openblas64_']\n",
            "    library_dirs = ['/usr/local/lib']\n",
            "    language = c\n",
            "    define_macros = [('HAVE_CBLAS', None), ('BLAS_SYMBOL_SUFFIX', '64_'), ('HAVE_BLAS_ILP64', None), ('HAVE_LAPACKE', None)]\n",
            "    runtime_library_dirs = ['/usr/local/lib']\n",
            "Supported SIMD extensions in this NumPy install:\n",
            "    baseline = SSE,SSE2,SSE3\n",
            "    found = SSSE3,SSE41,POPCNT,SSE42,AVX,F16C,FMA3,AVX2\n",
            "    not found = AVX512F,AVX512CD,AVX512_KNL,AVX512_KNM,AVX512_SKX,AVX512_CLX,AVX512_CNL,AVX512_ICL\n"
          ]
        }
      ],
      "source": [
        "print(np) #print(np.__version__)\n",
        "np.show_config()"
      ]
    },
    {
      "cell_type": "markdown",
      "id": "3e4c23c6",
      "metadata": {
        "id": "3e4c23c6"
      },
      "source": [
        "#### 3. Create a null vector of size 10 (★☆☆)"
      ]
    },
    {
      "cell_type": "code",
      "execution_count": null,
      "id": "083c5c46",
      "metadata": {
        "colab": {
          "base_uri": "https://localhost:8080/"
        },
        "id": "083c5c46",
        "outputId": "ec19653f-ec38-4040-be59-d37c08a1961c"
      },
      "outputs": [
        {
          "output_type": "stream",
          "name": "stdout",
          "text": [
            "[0. 0. 0. 0. 0. 0. 0. 0. 0. 0.]\n"
          ]
        }
      ],
      "source": [
        "a = np.zeros(10)\n",
        "print(a)"
      ]
    },
    {
      "cell_type": "markdown",
      "id": "c38bbe82",
      "metadata": {
        "id": "c38bbe82"
      },
      "source": [
        "#### 4. How to find the memory size of any array (★☆☆)"
      ]
    },
    {
      "cell_type": "code",
      "execution_count": null,
      "id": "02b04021",
      "metadata": {
        "colab": {
          "base_uri": "https://localhost:8080/"
        },
        "id": "02b04021",
        "outputId": "c922dae3-06db-4fc9-a8d1-ffdf7ea472ec"
      },
      "outputs": [
        {
          "output_type": "stream",
          "name": "stdout",
          "text": [
            "24\n"
          ]
        }
      ],
      "source": [
        "a = np.array([1, 500, 1000]) #np.zeros(10)\n",
        "np.size(a)\n",
        "print(a.size * a.itemsize)"
      ]
    },
    {
      "cell_type": "markdown",
      "id": "67f893d4",
      "metadata": {
        "id": "67f893d4"
      },
      "source": [
        "#### 5. How to get the documentation of the numpy add function from the command line? (★☆☆)"
      ]
    },
    {
      "cell_type": "code",
      "execution_count": null,
      "id": "40e6b70d",
      "metadata": {
        "colab": {
          "base_uri": "https://localhost:8080/"
        },
        "id": "40e6b70d",
        "outputId": "10e3640e-30d0-4af7-f16a-500c02b98abe"
      },
      "outputs": [
        {
          "output_type": "stream",
          "name": "stdout",
          "text": [
            "add(x1, x2, /, out=None, *, where=True, casting='same_kind', order='K', dtype=None, subok=True[, signature, extobj])\n",
            "\n",
            "Add arguments element-wise.\n",
            "\n",
            "Parameters\n",
            "----------\n",
            "x1, x2 : array_like\n",
            "    The arrays to be added.\n",
            "    If ``x1.shape != x2.shape``, they must be broadcastable to a common\n",
            "    shape (which becomes the shape of the output).\n",
            "out : ndarray, None, or tuple of ndarray and None, optional\n",
            "    A location into which the result is stored. If provided, it must have\n",
            "    a shape that the inputs broadcast to. If not provided or None,\n",
            "    a freshly-allocated array is returned. A tuple (possible only as a\n",
            "    keyword argument) must have length equal to the number of outputs.\n",
            "where : array_like, optional\n",
            "    This condition is broadcast over the input. At locations where the\n",
            "    condition is True, the `out` array will be set to the ufunc result.\n",
            "    Elsewhere, the `out` array will retain its original value.\n",
            "    Note that if an uninitialized `out` array is created via the default\n",
            "    ``out=None``, locations within it where the condition is False will\n",
            "    remain uninitialized.\n",
            "**kwargs\n",
            "    For other keyword-only arguments, see the\n",
            "    :ref:`ufunc docs <ufuncs.kwargs>`.\n",
            "\n",
            "Returns\n",
            "-------\n",
            "add : ndarray or scalar\n",
            "    The sum of `x1` and `x2`, element-wise.\n",
            "    This is a scalar if both `x1` and `x2` are scalars.\n",
            "\n",
            "Notes\n",
            "-----\n",
            "Equivalent to `x1` + `x2` in terms of array broadcasting.\n",
            "\n",
            "Examples\n",
            "--------\n",
            ">>> np.add(1.0, 4.0)\n",
            "5.0\n",
            ">>> x1 = np.arange(9.0).reshape((3, 3))\n",
            ">>> x2 = np.arange(3.0)\n",
            ">>> np.add(x1, x2)\n",
            "array([[  0.,   2.,   4.],\n",
            "       [  3.,   5.,   7.],\n",
            "       [  6.,   8.,  10.]])\n",
            "\n",
            "The ``+`` operator can be used as a shorthand for ``np.add`` on ndarrays.\n",
            "\n",
            ">>> x1 = np.arange(9.0).reshape((3, 3))\n",
            ">>> x2 = np.arange(3.0)\n",
            ">>> x1 + x2\n",
            "array([[ 0.,  2.,  4.],\n",
            "       [ 3.,  5.,  7.],\n",
            "       [ 6.,  8., 10.]])\n",
            "None\n"
          ]
        }
      ],
      "source": [
        "print(np.info(np.add))\n",
        "#%run `python -c \"import numpy; numpy.info(numpy.add)\"`"
      ]
    },
    {
      "cell_type": "markdown",
      "id": "e0c739c6",
      "metadata": {
        "id": "e0c739c6"
      },
      "source": [
        "#### 6. Create a null vector of size 10 but the fifth value which is 1 (★☆☆)"
      ]
    },
    {
      "cell_type": "code",
      "execution_count": null,
      "id": "bcceacf7",
      "metadata": {
        "colab": {
          "base_uri": "https://localhost:8080/"
        },
        "id": "bcceacf7",
        "outputId": "0dd15a0e-fac7-48de-932e-919ac54370c8"
      },
      "outputs": [
        {
          "output_type": "stream",
          "name": "stdout",
          "text": [
            "[0. 0. 0. 0. 1. 0. 0. 0. 0. 0.]\n"
          ]
        }
      ],
      "source": [
        "a = np.zeros(10)\n",
        "a[4] = 1\n",
        "print(a)"
      ]
    },
    {
      "cell_type": "markdown",
      "id": "fbebedab",
      "metadata": {
        "id": "fbebedab"
      },
      "source": [
        "#### 7. Create a vector with values ranging from 10 to 49 (★☆☆)"
      ]
    },
    {
      "cell_type": "code",
      "execution_count": null,
      "id": "3d117d54",
      "metadata": {
        "colab": {
          "base_uri": "https://localhost:8080/"
        },
        "id": "3d117d54",
        "outputId": "b0389387-96cf-4197-a137-9e18af899426"
      },
      "outputs": [
        {
          "output_type": "stream",
          "name": "stdout",
          "text": [
            "[10 11 12 13 14 15 16 17 18 19 20 21 22 23 24 25 26 27 28 29 30 31 32 33\n",
            " 34 35 36 37 38 39 40 41 42 43 44 45 46 47 48 49]\n"
          ]
        }
      ],
      "source": [
        "a = np.array(range(10,50)) #np.arange(10,50)\n",
        "print(a)"
      ]
    },
    {
      "cell_type": "markdown",
      "id": "ad0bff02",
      "metadata": {
        "id": "ad0bff02"
      },
      "source": [
        "#### 8. Reverse a vector (first element becomes last) (★☆☆)"
      ]
    },
    {
      "cell_type": "code",
      "execution_count": null,
      "id": "22d23470",
      "metadata": {
        "colab": {
          "base_uri": "https://localhost:8080/"
        },
        "id": "22d23470",
        "outputId": "6025b128-3513-47ce-959b-9592cd7ae32e"
      },
      "outputs": [
        {
          "output_type": "stream",
          "name": "stdout",
          "text": [
            "[49 48 47 46 45 44 43 42 41 40 39 38 37 36 35 34 33 32 31 30 29 28 27 26\n",
            " 25 24 23 22 21 20 19 18 17 16 15 14 13 12 11 10]\n"
          ]
        }
      ],
      "source": [
        "a = np.arange(10,50)\n",
        "a = a[::-1] #array[::-1]\n",
        "print(a)\n",
        "\n",
        "#import numpy as np\n",
        "#a = np.array([1, 2, 3, 4, 5, 6, 7, 8, 9, 10])\n",
        "#a = a[::-1]\n",
        "#print(a)"
      ]
    },
    {
      "cell_type": "markdown",
      "id": "9f59d7e1",
      "metadata": {
        "id": "9f59d7e1"
      },
      "source": [
        "#### 9. Create a 3x3 matrix with values ranging from 0 to 8 (★☆☆)"
      ]
    },
    {
      "cell_type": "code",
      "execution_count": null,
      "id": "7449e82d",
      "metadata": {
        "colab": {
          "base_uri": "https://localhost:8080/"
        },
        "id": "7449e82d",
        "outputId": "f94d68c4-0ead-4bac-8b51-34d3f6a07820"
      },
      "outputs": [
        {
          "output_type": "stream",
          "name": "stdout",
          "text": [
            "[[0 1 2]\n",
            " [3 4 5]\n",
            " [6 7 8]]\n"
          ]
        }
      ],
      "source": [
        "a = np.array(range(9)).reshape(3, 3)\n",
        "print(a)"
      ]
    },
    {
      "cell_type": "markdown",
      "id": "f374c4cf",
      "metadata": {
        "id": "f374c4cf"
      },
      "source": [
        "#### 10. Find indices of non-zero elements from [1,2,0,0,4,0] (★☆☆)"
      ]
    },
    {
      "cell_type": "code",
      "execution_count": null,
      "id": "1a84bed8",
      "metadata": {
        "colab": {
          "base_uri": "https://localhost:8080/"
        },
        "id": "1a84bed8",
        "outputId": "6e99697e-b95c-4f8e-e640-15ca42ce964e"
      },
      "outputs": [
        {
          "output_type": "stream",
          "name": "stdout",
          "text": [
            "(array([0, 1, 4]),)\n"
          ]
        }
      ],
      "source": [
        "nonzero = np.nonzero([1,2,0,0,4,0]) #why is there a comma and empty space after array?\n",
        "print(nonzero)"
      ]
    },
    {
      "cell_type": "markdown",
      "id": "9c4707f5",
      "metadata": {
        "id": "9c4707f5"
      },
      "source": [
        "#### 11. Create a 3x3 identity matrix (★☆☆)"
      ]
    },
    {
      "cell_type": "code",
      "execution_count": null,
      "id": "29dc1fd3",
      "metadata": {
        "colab": {
          "base_uri": "https://localhost:8080/"
        },
        "id": "29dc1fd3",
        "outputId": "ec6f5865-5f80-4959-83aa-b6ea9ccbff7f"
      },
      "outputs": [
        {
          "output_type": "stream",
          "name": "stdout",
          "text": [
            "[[1. 0. 0.]\n",
            " [0. 1. 0.]\n",
            " [0. 0. 1.]]\n"
          ]
        }
      ],
      "source": [
        "a = np.eye(3)\n",
        "print(a)"
      ]
    },
    {
      "cell_type": "markdown",
      "id": "3bac294a",
      "metadata": {
        "id": "3bac294a"
      },
      "source": [
        "#### 12. Create a 3x3x3 array with random values (★☆☆)"
      ]
    },
    {
      "cell_type": "code",
      "execution_count": null,
      "id": "eadfae67",
      "metadata": {
        "colab": {
          "base_uri": "https://localhost:8080/"
        },
        "id": "eadfae67",
        "outputId": "95af081c-71c0-4979-c9c9-c12fcc3427e7"
      },
      "outputs": [
        {
          "output_type": "stream",
          "name": "stdout",
          "text": [
            "[[[0.34847293 0.92583297 0.39689203]\n",
            "  [0.5174321  0.23897909 0.9406055 ]\n",
            "  [0.24715008 0.92803467 0.71004135]]\n",
            "\n",
            " [[0.14044642 0.75229811 0.74359285]\n",
            "  [0.34796807 0.24794283 0.93203469]\n",
            "  [0.33223578 0.65050942 0.53904634]]\n",
            "\n",
            " [[0.76592528 0.56989355 0.63010097]\n",
            "  [0.75718982 0.62203284 0.99509557]\n",
            "  [0.0519545  0.25085901 0.1859568 ]]]\n"
          ]
        }
      ],
      "source": [
        "a = np.random.random((3, 3, 3))\n",
        "print(a)"
      ]
    },
    {
      "cell_type": "markdown",
      "id": "466c2989",
      "metadata": {
        "id": "466c2989"
      },
      "source": [
        "#### 13. Create a 10x10 array with random values and find the minimum and maximum values (★☆☆)"
      ]
    },
    {
      "cell_type": "code",
      "execution_count": null,
      "id": "9a74dbfc",
      "metadata": {
        "colab": {
          "base_uri": "https://localhost:8080/"
        },
        "id": "9a74dbfc",
        "outputId": "67c2f1a9-595d-4efb-993e-3067b31ac37b"
      },
      "outputs": [
        {
          "output_type": "stream",
          "name": "stdout",
          "text": [
            "0.00857185895240875 0.9939828367946497\n"
          ]
        }
      ],
      "source": [
        "a = np.random.random((10, 10))\n",
        "amin = a.min() #Zmin, Zmax = Z.min(), Z.max()\n",
        "amax = a.max()\n",
        "print(amin, amax)"
      ]
    },
    {
      "cell_type": "markdown",
      "id": "53a8edb2",
      "metadata": {
        "id": "53a8edb2"
      },
      "source": [
        "#### 14. Create a random vector of size 30 and find the mean value (★☆☆)"
      ]
    },
    {
      "cell_type": "code",
      "execution_count": null,
      "id": "6691530b",
      "metadata": {
        "colab": {
          "base_uri": "https://localhost:8080/"
        },
        "id": "6691530b",
        "outputId": "5cfd5699-4af5-4f12-8751-747fb9f32278"
      },
      "outputs": [
        {
          "output_type": "stream",
          "name": "stdout",
          "text": [
            "0.4047244202144164\n"
          ]
        }
      ],
      "source": [
        "a = np.random.random(30)\n",
        "b = a.mean()\n",
        "print(b)"
      ]
    },
    {
      "cell_type": "markdown",
      "id": "cbaad31c",
      "metadata": {
        "id": "cbaad31c"
      },
      "source": [
        "#### 15. Create a 2d array with 1 on the border and 0 inside (★☆☆)"
      ]
    },
    {
      "cell_type": "code",
      "execution_count": null,
      "id": "ad8308e3",
      "metadata": {
        "colab": {
          "base_uri": "https://localhost:8080/"
        },
        "id": "ad8308e3",
        "outputId": "d474224a-9214-44f5-fc2f-b960b5c7b4f9"
      },
      "outputs": [
        {
          "output_type": "stream",
          "name": "stdout",
          "text": [
            "[[1. 1. 1. 1. 1. 1.]\n",
            " [1. 0. 0. 0. 0. 1.]\n",
            " [1. 0. 0. 0. 0. 1.]\n",
            " [1. 0. 0. 0. 0. 1.]\n",
            " [1. 0. 0. 0. 0. 1.]\n",
            " [1. 1. 1. 1. 1. 1.]]\n"
          ]
        }
      ],
      "source": [
        "a = np.ones((6, 6))\n",
        "a[1:-1, 1:-1] = 0 #This indexing operation sets the value of the inner elements of the array to zero by slicing the rows and columns from index 1 to the second last index (i.e., excluding the first and last rows and columns).\n",
        "print(a)"
      ]
    },
    {
      "cell_type": "markdown",
      "id": "c5ecc267",
      "metadata": {
        "id": "c5ecc267"
      },
      "source": [
        "#### 16. How to add a border (filled with 0's) around an existing array? (★☆☆)"
      ]
    },
    {
      "cell_type": "code",
      "execution_count": null,
      "id": "9d5c78c4",
      "metadata": {
        "colab": {
          "base_uri": "https://localhost:8080/"
        },
        "id": "9d5c78c4",
        "outputId": "1bba2eb0-6b6c-40b3-b104-22f452f19ff3"
      },
      "outputs": [
        {
          "output_type": "stream",
          "name": "stdout",
          "text": [
            "[[0. 0. 0. 0. 0.]\n",
            " [0. 1. 1. 1. 0.]\n",
            " [0. 1. 1. 1. 0.]\n",
            " [0. 1. 1. 1. 0.]\n",
            " [0. 0. 0. 0. 0.]]\n"
          ]
        }
      ],
      "source": [
        "a = np.ones((3, 3))\n",
        "a = np.pad(a, pad_width=1, mode='constant', constant_values=0) #Modifying the array 'a' to set 0s on the border and 1s inside the array using the np.pad function\n",
        "print(a)\n",
        "\n",
        "# Using fancy indexing\n",
        "#a[:, [0, -1]] = 0\n",
        "#a[[0, -1], :] = 0\n",
        "#print(a)"
      ]
    },
    {
      "cell_type": "markdown",
      "id": "ef909b72",
      "metadata": {
        "id": "ef909b72"
      },
      "source": [
        "#### 17. What is the result of the following expression? (★☆☆)\n",
        "```python\n",
        "0 * np.nan\n",
        "np.nan == np.nan\n",
        "np.inf > np.nan\n",
        "np.nan - np.nan\n",
        "np.nan in set([np.nan])\n",
        "0.3 == 3 * 0.1\n",
        "```"
      ]
    },
    {
      "cell_type": "code",
      "execution_count": null,
      "id": "3b4985f2",
      "metadata": {
        "colab": {
          "base_uri": "https://localhost:8080/"
        },
        "id": "3b4985f2",
        "outputId": "0b0e3366-94a8-4db9-bfbe-f9206cabc3bc"
      },
      "outputs": [
        {
          "output_type": "stream",
          "name": "stdout",
          "text": [
            "nan\n",
            "False\n",
            "False\n",
            "nan\n",
            "True\n",
            "False\n"
          ]
        }
      ],
      "source": [
        "#what is np.nan function?\n",
        "#hint: NaN = not a number, inf = infinity\n",
        "print(0 * np.nan)\n",
        "print(np.nan == np.nan)\n",
        "print(np.inf > np.nan)\n",
        "print(np.nan - np.nan)\n",
        "print(np.nan in set([np.nan]))\n",
        "print(0.3 == 3 * 0.1)"
      ]
    },
    {
      "cell_type": "markdown",
      "id": "502738ac",
      "metadata": {
        "id": "502738ac"
      },
      "source": [
        "#### 18. Create a 5x5 matrix with values 1,2,3,4 just below the diagonal (★☆☆)"
      ]
    },
    {
      "cell_type": "code",
      "execution_count": null,
      "id": "faed6e2b",
      "metadata": {
        "colab": {
          "base_uri": "https://localhost:8080/"
        },
        "id": "faed6e2b",
        "outputId": "92231224-36b8-4678-e371-91326633ebc3"
      },
      "outputs": [
        {
          "output_type": "stream",
          "name": "stdout",
          "text": [
            "[[0 0 0 0 0]\n",
            " [1 0 0 0 0]\n",
            " [0 2 0 0 0]\n",
            " [0 0 3 0 0]\n",
            " [0 0 0 4 0]]\n"
          ]
        }
      ],
      "source": [
        "a = np.diag(1+np.arange(4),k=-1)\n",
        "print(a)"
      ]
    },
    {
      "cell_type": "markdown",
      "id": "a65da660",
      "metadata": {
        "id": "a65da660"
      },
      "source": [
        "#### 19. Create a 8x8 matrix and fill it with a checkerboard pattern (★☆☆)"
      ]
    },
    {
      "cell_type": "code",
      "execution_count": null,
      "id": "ed150400",
      "metadata": {
        "colab": {
          "base_uri": "https://localhost:8080/"
        },
        "id": "ed150400",
        "outputId": "dc8e4d4d-e3d9-4e6a-9024-cde8144cb55b"
      },
      "outputs": [
        {
          "output_type": "stream",
          "name": "stdout",
          "text": [
            "[[0 1 0 1 0 1 0 1]\n",
            " [1 0 1 0 1 0 1 0]\n",
            " [0 1 0 1 0 1 0 1]\n",
            " [1 0 1 0 1 0 1 0]\n",
            " [0 1 0 1 0 1 0 1]\n",
            " [1 0 1 0 1 0 1 0]\n",
            " [0 1 0 1 0 1 0 1]\n",
            " [1 0 1 0 1 0 1 0]]\n"
          ]
        }
      ],
      "source": [
        "a = np.zeros((8, 8), dtype=int) #datatype = integer\n",
        "a[1::2,::2] = 1 #Assigns the value 1 to every other element in every other row, starting from the second row (index 1).\n",
        "a[::2,1::2] = 1 #Assigns the value 1 to every other element in every other column, starting from the second column (index 1).\n",
        "print(a)"
      ]
    },
    {
      "cell_type": "markdown",
      "id": "9f7f9c49",
      "metadata": {
        "id": "9f7f9c49"
      },
      "source": [
        "#### 20. Consider a (6,7,8) shape array, what is the index (x,y,z) of the 100th element? (★☆☆)"
      ]
    },
    {
      "cell_type": "code",
      "execution_count": null,
      "id": "3782b5a9",
      "metadata": {
        "colab": {
          "base_uri": "https://localhost:8080/"
        },
        "id": "3782b5a9",
        "outputId": "1898507c-8faf-493d-d224-d813cb9279bf"
      },
      "outputs": [
        {
          "output_type": "stream",
          "name": "stdout",
          "text": [
            "(1, 5, 3)\n"
          ]
        }
      ],
      "source": [
        "print(np.unravel_index(99,(6,7,8)))"
      ]
    },
    {
      "cell_type": "markdown",
      "id": "66bfda35",
      "metadata": {
        "id": "66bfda35"
      },
      "source": [
        "#### 21. Create a checkerboard 8x8 matrix using the tile function (★☆☆)"
      ]
    },
    {
      "cell_type": "code",
      "execution_count": null,
      "id": "4c07477c",
      "metadata": {
        "colab": {
          "base_uri": "https://localhost:8080/"
        },
        "id": "4c07477c",
        "outputId": "77f17e25-ed2e-4c7e-f1f4-4ea26f541906"
      },
      "outputs": [
        {
          "output_type": "stream",
          "name": "stdout",
          "text": [
            "[[0 1 0 1 0 1 0 1]\n",
            " [1 0 1 0 1 0 1 0]\n",
            " [0 1 0 1 0 1 0 1]\n",
            " [1 0 1 0 1 0 1 0]\n",
            " [0 1 0 1 0 1 0 1]\n",
            " [1 0 1 0 1 0 1 0]\n",
            " [0 1 0 1 0 1 0 1]\n",
            " [1 0 1 0 1 0 1 0]]\n"
          ]
        }
      ],
      "source": [
        "a = np.tile(np.array([[0,1],[1,0]]), (4,4)) #what does this mean?\n",
        "print(a)\n",
        "#c = np.array([[0, 1], [1, 0]])\n",
        "#np.tile(c, (4,4))"
      ]
    },
    {
      "cell_type": "markdown",
      "id": "d5bcfc08",
      "metadata": {
        "id": "d5bcfc08"
      },
      "source": [
        "#### 22. Normalize a 5x5 random matrix (★☆☆)"
      ]
    },
    {
      "cell_type": "code",
      "execution_count": null,
      "id": "cea6c993",
      "metadata": {
        "colab": {
          "base_uri": "https://localhost:8080/"
        },
        "id": "cea6c993",
        "outputId": "aaa0711f-d299-45e3-fc19-6e85c2137375"
      },
      "outputs": [
        {
          "output_type": "stream",
          "name": "stdout",
          "text": [
            "[[ 1.22030501  0.02165891 -0.45650267  0.92205025 -1.34810763]\n",
            " [ 0.41447182 -0.52158078 -0.26070445 -0.1190086  -0.76947597]\n",
            " [-0.86857329  1.21493581 -0.40176957 -0.99609476 -0.95060373]\n",
            " [ 1.02030232  1.67443247  0.97485524 -1.65627563 -1.3575232 ]\n",
            " [ 0.60469566 -1.42637838  1.07069064  1.39231836  0.60188216]]\n"
          ]
        }
      ],
      "source": [
        "a = np.random.random((5, 5))\n",
        "a = (a - np.mean (a)) / (np.std (a)) #normalize each column by subtracting its mean and dividing by its standard deviation, columns are axis = 0\n",
        "print(a)"
      ]
    },
    {
      "cell_type": "markdown",
      "id": "f9a0911e",
      "metadata": {
        "id": "f9a0911e"
      },
      "source": [
        "#### 23. Create a custom dtype that describes a color as four unsigned bytes (RGBA) (★☆☆)"
      ]
    },
    {
      "cell_type": "code",
      "execution_count": null,
      "id": "d165044b",
      "metadata": {
        "id": "d165044b"
      },
      "outputs": [],
      "source": [
        "color = np.dtype([(\"r\", np.ubyte),\n",
        "                  (\"g\", np.ubyte),\n",
        "                  (\"b\", np.ubyte),\n",
        "                  (\"a\", np.ubyte)])"
      ]
    },
    {
      "cell_type": "markdown",
      "id": "654805b1",
      "metadata": {
        "id": "654805b1"
      },
      "source": [
        "#### 24. Multiply a 5x3 matrix by a 3x2 matrix (real matrix product) (★☆☆)"
      ]
    },
    {
      "cell_type": "code",
      "execution_count": null,
      "id": "6a42619f",
      "metadata": {
        "id": "6a42619f",
        "colab": {
          "base_uri": "https://localhost:8080/"
        },
        "outputId": "9bc39721-3450-4d93-fb32-024d822a4e42"
      },
      "outputs": [
        {
          "output_type": "stream",
          "name": "stdout",
          "text": [
            "[[3. 3.]\n",
            " [3. 3.]\n",
            " [3. 3.]\n",
            " [3. 3.]\n",
            " [3. 3.]]\n"
          ]
        }
      ],
      "source": [
        "import numpy as np\n",
        "a = np.ones((5, 3))\n",
        "b = np.ones((3, 2))\n",
        "c = a @ b\n",
        "print(c)\n",
        "\n",
        "#Z = np.dot(np.ones((5,3)), np.ones((3,2)))\n",
        "\n",
        "# Alternative solution, in Python 3.5 and above\n",
        "#Z = np.ones((5,3)) @ np.ones((3,2))"
      ]
    },
    {
      "cell_type": "markdown",
      "id": "994c25df",
      "metadata": {
        "id": "994c25df"
      },
      "source": [
        "#### 25. Given a 1D array, negate all elements which are between 3 and 8, in place. (★☆☆)"
      ]
    },
    {
      "cell_type": "code",
      "execution_count": null,
      "id": "e4b39c03",
      "metadata": {
        "id": "e4b39c03",
        "colab": {
          "base_uri": "https://localhost:8080/"
        },
        "outputId": "9a81e615-6f99-418e-f2fb-f064123972b1"
      },
      "outputs": [
        {
          "output_type": "stream",
          "name": "stdout",
          "text": [
            "[-4 -5 -6 -7]\n"
          ]
        }
      ],
      "source": [
        "#a = np.array(range(3, 9))\n",
        "#print(a)\n",
        "\n",
        "a = np.array(range(10))\n",
        "b = (a > 3) & (a < 8)\n",
        "a[b] *= -1\n",
        "print(a[b])\n",
        "\n",
        "#Z = np.arange(11)\n",
        "#Z[(3 < Z) & (Z < 8)] *= -1\n",
        "#print(Z)"
      ]
    },
    {
      "cell_type": "markdown",
      "id": "b7d15d1a",
      "metadata": {
        "id": "b7d15d1a"
      },
      "source": [
        "#### 26. What is the output of the following script? (★☆☆)\n",
        "```python\n",
        "# Author: Jake VanderPlas\n",
        "\n",
        "print(sum(range(5),-1))\n",
        "from numpy import *\n",
        "print(sum(range(5),-1))\n",
        "```"
      ]
    },
    {
      "cell_type": "code",
      "execution_count": null,
      "id": "4c95bc3f",
      "metadata": {
        "id": "4c95bc3f",
        "colab": {
          "base_uri": "https://localhost:8080/"
        },
        "outputId": "e986f58c-0afc-4736-cbba-6e51493fdc11"
      },
      "outputs": [
        {
          "output_type": "stream",
          "name": "stdout",
          "text": [
            "10\n",
            "10\n"
          ]
        }
      ],
      "source": [
        "print(sum(range(5),-1)) #what does -1 do?\n",
        "from numpy import *\n",
        "print(sum(range(5),-1))"
      ]
    },
    {
      "cell_type": "markdown",
      "id": "a34f0d08",
      "metadata": {
        "id": "a34f0d08"
      },
      "source": [
        "#### 27. Consider an integer vector Z, which of these expressions are legal? (★☆☆)\n",
        "```python\n",
        "Z**Z\n",
        "2 << Z >> 2\n",
        "Z <- Z\n",
        "1j*Z\n",
        "Z/1/1\n",
        "Z<Z>Z\n",
        "```"
      ]
    },
    {
      "cell_type": "code",
      "execution_count": null,
      "id": "564658fc",
      "metadata": {
        "id": "564658fc",
        "colab": {
          "base_uri": "https://localhost:8080/"
        },
        "outputId": "938848e9-4e21-48b5-df95-28b8f82152ae"
      },
      "outputs": [
        {
          "output_type": "execute_result",
          "data": {
            "text/plain": [
              "array([ 0.,  1.,  2.,  3., -4., -5., -6., -7.,  8.,  9., 10.])"
            ]
          },
          "metadata": {},
          "execution_count": 20
        }
      ],
      "source": [
        "2 << Z >> 2\n",
        "Z <- Z\n",
        "1j*Z\n",
        "Z/1/1"
      ]
    },
    {
      "cell_type": "markdown",
      "id": "c34e94bf",
      "metadata": {
        "id": "c34e94bf"
      },
      "source": [
        "#### 28. What are the result of the following expressions? (★☆☆)\n",
        "```python\n",
        "np.array(0) / np.array(0)\n",
        "np.array(0) // np.array(0)\n",
        "np.array([np.nan]).astype(int).astype(float)\n",
        "```"
      ]
    },
    {
      "cell_type": "code",
      "execution_count": null,
      "id": "56663562",
      "metadata": {
        "id": "56663562",
        "colab": {
          "base_uri": "https://localhost:8080/"
        },
        "outputId": "318f6c56-e7e9-4e40-96eb-4ffa33b84aa6"
      },
      "outputs": [
        {
          "output_type": "stream",
          "name": "stderr",
          "text": [
            "<ipython-input-21-cd809174da5d>:1: RuntimeWarning: invalid value encountered in divide\n",
            "  np.array(0) / np.array(0)\n",
            "<ipython-input-21-cd809174da5d>:2: RuntimeWarning: divide by zero encountered in floor_divide\n",
            "  np.array(0) // np.array(0)\n",
            "<ipython-input-21-cd809174da5d>:3: RuntimeWarning: invalid value encountered in cast\n",
            "  np.array([np.nan]).astype(int).astype(float)\n"
          ]
        },
        {
          "output_type": "execute_result",
          "data": {
            "text/plain": [
              "array([-9.22337204e+18])"
            ]
          },
          "metadata": {},
          "execution_count": 21
        }
      ],
      "source": [
        "np.array(0) / np.array(0)\n",
        "np.array(0) // np.array(0)\n",
        "np.array([np.nan]).astype(int).astype(float)"
      ]
    },
    {
      "cell_type": "markdown",
      "id": "546f5e7b",
      "metadata": {
        "id": "546f5e7b"
      },
      "source": [
        "#### 29. How to round away from zero a float array ? (★☆☆)"
      ]
    },
    {
      "cell_type": "code",
      "execution_count": null,
      "id": "f725a6d2",
      "metadata": {
        "id": "f725a6d2",
        "colab": {
          "base_uri": "https://localhost:8080/"
        },
        "outputId": "f740d992-9ccb-42b1-8095-dcffaafeed24"
      },
      "outputs": [
        {
          "output_type": "stream",
          "name": "stdout",
          "text": [
            "[  5.   2.  -5.  -4.  -5.  -7.   9.  -9.   4. -10.]\n",
            "[  5.   2.  -5.  -4.  -5.  -7.   9.  -9.   4. -10.]\n"
          ]
        },
        {
          "output_type": "execute_result",
          "data": {
            "text/plain": [
              "array([], shape=(0, 10), dtype=float64)"
            ]
          },
          "metadata": {},
          "execution_count": 12
        }
      ],
      "source": [
        "#`hint: np.uniform, np.copysign, np.ceil, np.abs, np.where`\n",
        "Z = np.random.uniform(-10,+10,10)\n",
        "print(np.copysign(np.ceil(np.abs(Z)), Z))\n",
        "# More readable but less efficient\n",
        "print(np.where(Z>0, np.ceil(Z), np.floor(Z)))\n",
        "\n",
        "#temp = np.random.random((0, 10))\n",
        "#np.around(temp, decimals=0)\n",
        "#np.rint(temp)\n",
        "#np.round(temp)\n",
        "#np.trunc(temp)"
      ]
    },
    {
      "cell_type": "markdown",
      "id": "eadca856",
      "metadata": {
        "id": "eadca856"
      },
      "source": [
        "#### 30. How to find common values between two arrays? (★☆☆)"
      ]
    },
    {
      "cell_type": "code",
      "execution_count": null,
      "id": "e0270b5b",
      "metadata": {
        "id": "e0270b5b",
        "colab": {
          "base_uri": "https://localhost:8080/"
        },
        "outputId": "a9eceec9-c1bf-437a-8380-8378a63aad9c"
      },
      "outputs": [
        {
          "output_type": "stream",
          "name": "stdout",
          "text": [
            "[1 2 3 5]\n"
          ]
        }
      ],
      "source": [
        "ar1 = ([1, 2, 3, 4, 5]) #np.array ([]) #[] non np.array\n",
        "ar2 = ([1, 2, 3, 5, 6])\n",
        "print(np.intersect1d(ar1, ar2))"
      ]
    },
    {
      "cell_type": "markdown",
      "id": "ca16ca22",
      "metadata": {
        "id": "ca16ca22"
      },
      "source": [
        "#### 31. How to ignore all numpy warnings (not recommended)? (★☆☆)"
      ]
    },
    {
      "cell_type": "code",
      "execution_count": null,
      "id": "7d7208ef",
      "metadata": {
        "id": "7d7208ef",
        "colab": {
          "base_uri": "https://localhost:8080/"
        },
        "outputId": "d6dec379-3cd5-4142-ff01-eca9e7c4f0e1"
      },
      "outputs": [
        {
          "output_type": "stream",
          "name": "stderr",
          "text": [
            "<ipython-input-22-ff2b6d599167>:4: RuntimeWarning: All-NaN slice encountered\n",
            "  np.nanmedian(data, axis=[1, 2])\n"
          ]
        },
        {
          "output_type": "execute_result",
          "data": {
            "text/plain": [
              "array([nan, nan, nan, nan, nan, nan, nan, nan, nan, nan])"
            ]
          },
          "metadata": {},
          "execution_count": 22
        }
      ],
      "source": [
        "#warnings.filterwarnings('ignore')\n",
        "data = np.random.random(1000).reshape(10, 10,10) * np.nan\n",
        "np.seterr(all=\"ignore\")\n",
        "np.nanmedian(data, axis=[1, 2])\n",
        "\n",
        "# Suicide mode on\n",
        "#defaults = np.seterr(all=\"ignore\")\n",
        "#Z = np.ones(1) / 0\n",
        "\n",
        "# Back to sanity\n",
        "#_ = np.seterr(**defaults)\n",
        "\n",
        "# Equivalently with a context manager\n",
        "#with np.errstate(all=\"ignore\"):\n",
        "    #np.arange(3) / 0"
      ]
    },
    {
      "cell_type": "markdown",
      "id": "c7871d0d",
      "metadata": {
        "id": "c7871d0d"
      },
      "source": [
        "#### 32. Is the following expressions true? (★☆☆)\n",
        "```python\n",
        "np.sqrt(-1) == np.emath.sqrt(-1)\n",
        "```"
      ]
    },
    {
      "cell_type": "code",
      "execution_count": null,
      "id": "acc3701a",
      "metadata": {
        "id": "acc3701a",
        "colab": {
          "base_uri": "https://localhost:8080/"
        },
        "outputId": "e6d0bced-85da-4729-9639-b025dd4d3088"
      },
      "outputs": [
        {
          "output_type": "stream",
          "name": "stderr",
          "text": [
            "<ipython-input-22-16339fbc685e>:1: RuntimeWarning: invalid value encountered in sqrt\n",
            "  np.sqrt(-1) == np.emath.sqrt(-1)\n"
          ]
        },
        {
          "output_type": "execute_result",
          "data": {
            "text/plain": [
              "False"
            ]
          },
          "metadata": {},
          "execution_count": 22
        }
      ],
      "source": [
        "np.sqrt(-1) == np.emath.sqrt(-1)"
      ]
    },
    {
      "cell_type": "markdown",
      "id": "e0433e30",
      "metadata": {
        "id": "e0433e30"
      },
      "source": [
        "#### 33. How to get the dates of yesterday, today and tomorrow? (★☆☆)"
      ]
    },
    {
      "cell_type": "code",
      "execution_count": null,
      "id": "9c4d2152",
      "metadata": {
        "id": "9c4d2152",
        "colab": {
          "base_uri": "https://localhost:8080/"
        },
        "outputId": "bd35ba7d-7d32-46cd-9f6b-316f4aaa7a03"
      },
      "outputs": [
        {
          "output_type": "stream",
          "name": "stdout",
          "text": [
            "2024-06-14 19:43:06.241963 2024-06-13 19:43:06.241963 2024-06-15 19:43:06.241963\n"
          ]
        }
      ],
      "source": [
        "from datetime import datetime, timedelta\n",
        "presentday = datetime.today() #datetime.now()\n",
        "yesterday = presentday - timedelta(1)\n",
        "tomorrow = presentday + timedelta(1)\n",
        "print(presentday, yesterday, tomorrow)"
      ]
    },
    {
      "cell_type": "markdown",
      "id": "9f52a2ef",
      "metadata": {
        "id": "9f52a2ef"
      },
      "source": [
        "#### 34. How to get all the dates corresponding to the month of July 2016? (★★☆)"
      ]
    },
    {
      "cell_type": "code",
      "execution_count": null,
      "id": "d6c34dec",
      "metadata": {
        "id": "d6c34dec",
        "colab": {
          "base_uri": "https://localhost:8080/"
        },
        "outputId": "4cb59a5b-a1c1-4491-b236-6d4e1c9667b4"
      },
      "outputs": [
        {
          "output_type": "stream",
          "name": "stdout",
          "text": [
            "July, 2016\n",
            "['2016-07-01' '2016-07-02' '2016-07-03' '2016-07-04' '2016-07-05'\n",
            " '2016-07-06' '2016-07-07' '2016-07-08' '2016-07-09' '2016-07-10'\n",
            " '2016-07-11' '2016-07-12' '2016-07-13' '2016-07-14' '2016-07-15'\n",
            " '2016-07-16' '2016-07-17' '2016-07-18' '2016-07-19' '2016-07-20'\n",
            " '2016-07-21' '2016-07-22' '2016-07-23' '2016-07-24' '2016-07-25'\n",
            " '2016-07-26' '2016-07-27' '2016-07-28' '2016-07-29' '2016-07-30'\n",
            " '2016-07-31']\n"
          ]
        }
      ],
      "source": [
        "print(\"July, 2016\")\n",
        "print(np.arange('2016-07', '2016-08', dtype='datetime64[D]'))"
      ]
    },
    {
      "cell_type": "markdown",
      "id": "4a64e059",
      "metadata": {
        "id": "4a64e059"
      },
      "source": [
        "#### 35. How to compute ((A+B)*(-A/2)) in place (without copy)? (★★☆)\n",
        "\n",
        "\n",
        "\n"
      ]
    },
    {
      "cell_type": "code",
      "execution_count": null,
      "id": "49267f60",
      "metadata": {
        "id": "49267f60",
        "colab": {
          "base_uri": "https://localhost:8080/"
        },
        "outputId": "b0ec80a4-3d07-4a7f-837d-0046c808dd9f"
      },
      "outputs": [
        {
          "output_type": "execute_result",
          "data": {
            "text/plain": [
              "array([-1.5, -1.5, -1.5])"
            ]
          },
          "metadata": {},
          "execution_count": 27
        }
      ],
      "source": [
        "A = np.ones(3)*1\n",
        "B = np.ones(3)*2\n",
        "np.add(A,B,out=B)\n",
        "np.divide(A,2,out=A)\n",
        "np.negative(A,out=A)\n",
        "np.multiply(A,B,out=A)"
      ]
    },
    {
      "cell_type": "markdown",
      "id": "8a98c2a8",
      "metadata": {
        "id": "8a98c2a8"
      },
      "source": [
        "#### 36. Extract the integer part of a random array of positive numbers using 4 different methods (★★☆)"
      ]
    },
    {
      "cell_type": "code",
      "execution_count": null,
      "id": "368130b3",
      "metadata": {
        "id": "368130b3",
        "colab": {
          "base_uri": "https://localhost:8080/"
        },
        "outputId": "49cdfaab-1fcc-4c78-f57f-e85973e7c9df"
      },
      "outputs": [
        {
          "output_type": "stream",
          "name": "stdout",
          "text": [
            "[3. 9. 3. 6. 3. 4. 1. 4. 5. 2.]\n",
            "[3. 9. 3. 6. 3. 4. 1. 4. 5. 2.]\n",
            "[3. 9. 3. 6. 3. 4. 1. 4. 5. 2.]\n",
            "[3 9 3 6 3 4 1 4 5 2]\n",
            "[3. 9. 3. 6. 3. 4. 1. 4. 5. 2.]\n"
          ]
        }
      ],
      "source": [
        "a = np.random.uniform(0,10,10)\n",
        "print(a - a%1)\n",
        "print(a // 1)\n",
        "print(np.floor(a))\n",
        "print(a.astype(int))\n",
        "print(np.trunc(a))"
      ]
    },
    {
      "cell_type": "markdown",
      "id": "5a2e3d85",
      "metadata": {
        "id": "5a2e3d85"
      },
      "source": [
        "#### 37. Create a 5x5 matrix with row values ranging from 0 to 4 (★★☆)"
      ]
    },
    {
      "cell_type": "code",
      "execution_count": null,
      "id": "1d974e8f",
      "metadata": {
        "id": "1d974e8f",
        "colab": {
          "base_uri": "https://localhost:8080/"
        },
        "outputId": "268ba24a-a3e2-4c61-8923-de410b467b8f"
      },
      "outputs": [
        {
          "output_type": "stream",
          "name": "stdout",
          "text": [
            "[[0. 1. 2. 3. 4.]\n",
            " [0. 1. 2. 3. 4.]\n",
            " [0. 1. 2. 3. 4.]\n",
            " [0. 1. 2. 3. 4.]\n",
            " [0. 1. 2. 3. 4.]]\n",
            "[[0 1 2 3 4]\n",
            " [0 1 2 3 4]\n",
            " [0 1 2 3 4]\n",
            " [0 1 2 3 4]\n",
            " [0 1 2 3 4]]\n"
          ]
        }
      ],
      "source": [
        "a = np.zeros((5,5))\n",
        "a += np.arange(5)\n",
        "print(a)\n",
        "\n",
        "# without broadcasting\n",
        "Z = np.tile(np.arange(0, 5), (5,1)) #what\n",
        "print(Z)"
      ]
    },
    {
      "cell_type": "markdown",
      "id": "9720e2d5",
      "metadata": {
        "id": "9720e2d5"
      },
      "source": [
        "#### 38. Consider a generator function that generates 10 integers and use it to build an array (★☆☆)"
      ]
    },
    {
      "cell_type": "code",
      "execution_count": null,
      "id": "e5dd8fc9",
      "metadata": {
        "id": "e5dd8fc9",
        "colab": {
          "base_uri": "https://localhost:8080/"
        },
        "outputId": "57cc3370-ff71-4069-ab61-be14c775546b"
      },
      "outputs": [
        {
          "output_type": "stream",
          "name": "stdout",
          "text": [
            "[0. 1. 2. 3. 4. 5. 6. 7. 8. 9.]\n"
          ]
        }
      ],
      "source": [
        "def generate():\n",
        "   for n in range(10):\n",
        "       yield n\n",
        "\n",
        "# Creating a NumPy array 'nums' using 'fromiter' by converting the generator into a NumPy array of type 'float'\n",
        "nums = np.fromiter(generate(), dtype=float, count=-1)\n",
        "print(nums)"
      ]
    },
    {
      "cell_type": "markdown",
      "id": "c6f2c912",
      "metadata": {
        "id": "c6f2c912"
      },
      "source": [
        "#### 39. Create a vector of size 10 with values ranging from 0 to 1, both excluded (★★☆)"
      ]
    },
    {
      "cell_type": "code",
      "execution_count": null,
      "id": "6aaa27d3",
      "metadata": {
        "id": "6aaa27d3",
        "colab": {
          "base_uri": "https://localhost:8080/"
        },
        "outputId": "e889fd82-ce8c-409f-e0ec-e0950ae6124a"
      },
      "outputs": [
        {
          "output_type": "stream",
          "name": "stdout",
          "text": [
            "[0.09090909 0.18181818 0.27272727 0.36363636 0.45454545 0.54545455\n",
            " 0.63636364 0.72727273 0.81818182 0.90909091]\n"
          ]
        }
      ],
      "source": [
        "a = np.linspace(0,1,11,endpoint=False)[1:]\n",
        "print(a)"
      ]
    },
    {
      "cell_type": "markdown",
      "id": "a36d6ee4",
      "metadata": {
        "id": "a36d6ee4"
      },
      "source": [
        "#### 40. Create a random vector of size 10 and sort it (★★☆)"
      ]
    },
    {
      "cell_type": "code",
      "execution_count": null,
      "id": "e589d216",
      "metadata": {
        "id": "e589d216",
        "colab": {
          "base_uri": "https://localhost:8080/"
        },
        "outputId": "67b07ae0-b13d-4a9d-b08a-5933ac910648"
      },
      "outputs": [
        {
          "output_type": "stream",
          "name": "stdout",
          "text": [
            "[0.04817586 0.10261217 0.1327096  0.20169894 0.3844496  0.5567037\n",
            " 0.77388186 0.84992624 0.93564305 0.93681886]\n"
          ]
        }
      ],
      "source": [
        "a = np.random.random(10)\n",
        "a.sort()\n",
        "print(a)"
      ]
    },
    {
      "cell_type": "markdown",
      "id": "0fb4ad68",
      "metadata": {
        "id": "0fb4ad68"
      },
      "source": [
        "#### 41. How to sum a small array faster than np.sum? (★★☆)"
      ]
    },
    {
      "cell_type": "code",
      "execution_count": null,
      "id": "a1ba05a0",
      "metadata": {
        "id": "a1ba05a0",
        "colab": {
          "base_uri": "https://localhost:8080/"
        },
        "outputId": "50ff61cc-40d1-406c-f3e9-8fbf90cd5fa6"
      },
      "outputs": [
        {
          "output_type": "execute_result",
          "data": {
            "text/plain": [
              "45"
            ]
          },
          "metadata": {},
          "execution_count": 43
        }
      ],
      "source": [
        "a = np.arange(10)\n",
        "np.add.reduce(a)"
      ]
    },
    {
      "cell_type": "markdown",
      "id": "024ac365",
      "metadata": {
        "id": "024ac365"
      },
      "source": [
        "#### 42. Consider two random array A and B, check if they are equal (★★☆)"
      ]
    },
    {
      "cell_type": "code",
      "execution_count": null,
      "id": "7db3846d",
      "metadata": {
        "id": "7db3846d",
        "colab": {
          "base_uri": "https://localhost:8080/"
        },
        "outputId": "6d751da3-a1be-4780-d093-9939fe1a5c64"
      },
      "outputs": [
        {
          "output_type": "stream",
          "name": "stdout",
          "text": [
            "True\n",
            "True\n",
            "True\n"
          ]
        }
      ],
      "source": [
        "a = np.random.randint(0, 2, 5)\n",
        "b = np.random.randint(0, 2, 5)\n",
        "array_equal = np.allclose(a, b)\n",
        "print(array_equal)\n",
        "\n",
        "# Assuming identical shape of the arrays and a tolerance for the comparison of values\n",
        "equal = np.allclose(a, b)\n",
        "print(equal)\n",
        "# Checking both the shape and the element values, no tolerance (values have to be exactly equal)\n",
        "equal = np.array_equal(a, b)\n",
        "print(equal)"
      ]
    },
    {
      "cell_type": "markdown",
      "id": "c68d2401",
      "metadata": {
        "id": "c68d2401"
      },
      "source": [
        "#### 43. Make an array immutable (read-only) (★★☆)"
      ]
    },
    {
      "cell_type": "code",
      "execution_count": null,
      "id": "7828539d",
      "metadata": {
        "id": "7828539d"
      },
      "outputs": [],
      "source": [
        "a = np.ones(10)\n",
        "a.flags.writeable = False\n",
        "#a[0] = 0 --> read only"
      ]
    },
    {
      "cell_type": "markdown",
      "id": "55df6280",
      "metadata": {
        "id": "55df6280"
      },
      "source": [
        "#### 44. Consider a random 10x2 matrix representing cartesian coordinates, convert them to polar coordinates (★★☆)"
      ]
    },
    {
      "cell_type": "code",
      "execution_count": null,
      "id": "f1c86ea0",
      "metadata": {
        "id": "f1c86ea0"
      },
      "outputs": [],
      "source": []
    },
    {
      "cell_type": "markdown",
      "id": "2f60f1ec",
      "metadata": {
        "id": "2f60f1ec"
      },
      "source": [
        "#### 45. Create random vector of size 10 and replace the maximum value by 0 (★★☆)"
      ]
    },
    {
      "cell_type": "code",
      "execution_count": null,
      "id": "d9f48f1c",
      "metadata": {
        "id": "d9f48f1c"
      },
      "outputs": [],
      "source": []
    },
    {
      "cell_type": "markdown",
      "id": "084e8ad4",
      "metadata": {
        "id": "084e8ad4"
      },
      "source": [
        "#### 46. Create a structured array with `x` and `y` coordinates covering the [0,1]x[0,1] area (★★☆)"
      ]
    },
    {
      "cell_type": "code",
      "execution_count": null,
      "id": "58b47c13",
      "metadata": {
        "id": "58b47c13"
      },
      "outputs": [],
      "source": []
    },
    {
      "cell_type": "markdown",
      "id": "d7b9bc42",
      "metadata": {
        "id": "d7b9bc42"
      },
      "source": [
        "#### 47. Given two arrays, X and Y, construct the Cauchy matrix C (Cij =1/(xi - yj)) (★★☆)"
      ]
    },
    {
      "cell_type": "code",
      "execution_count": null,
      "id": "a24824fb",
      "metadata": {
        "id": "a24824fb"
      },
      "outputs": [],
      "source": []
    },
    {
      "cell_type": "markdown",
      "id": "65ebc11b",
      "metadata": {
        "id": "65ebc11b"
      },
      "source": [
        "#### 48. Print the minimum and maximum representable value for each numpy scalar type (★★☆)"
      ]
    },
    {
      "cell_type": "code",
      "execution_count": null,
      "id": "e45d38fb",
      "metadata": {
        "id": "e45d38fb"
      },
      "outputs": [],
      "source": []
    },
    {
      "cell_type": "markdown",
      "id": "9b317a98",
      "metadata": {
        "id": "9b317a98"
      },
      "source": [
        "#### 49. How to print all the values of an array? (★★☆)"
      ]
    },
    {
      "cell_type": "code",
      "execution_count": null,
      "id": "309cdeb9",
      "metadata": {
        "id": "309cdeb9"
      },
      "outputs": [],
      "source": []
    },
    {
      "cell_type": "markdown",
      "id": "b580f9d0",
      "metadata": {
        "id": "b580f9d0"
      },
      "source": [
        "#### 50. How to find the closest value (to a given scalar) in a vector? (★★☆)"
      ]
    },
    {
      "cell_type": "code",
      "execution_count": null,
      "id": "ebfb6714",
      "metadata": {
        "id": "ebfb6714"
      },
      "outputs": [],
      "source": []
    },
    {
      "cell_type": "markdown",
      "id": "602e6252",
      "metadata": {
        "id": "602e6252"
      },
      "source": [
        "#### 51. Create a structured array representing a position (x,y) and a color (r,g,b) (★★☆)"
      ]
    },
    {
      "cell_type": "code",
      "execution_count": null,
      "id": "cf002b3a",
      "metadata": {
        "id": "cf002b3a"
      },
      "outputs": [],
      "source": []
    },
    {
      "cell_type": "markdown",
      "id": "78bcd92f",
      "metadata": {
        "id": "78bcd92f"
      },
      "source": [
        "#### 52. Consider a random vector with shape (100,2) representing coordinates, find point by point distances (★★☆)"
      ]
    },
    {
      "cell_type": "code",
      "execution_count": null,
      "id": "fea7f9a6",
      "metadata": {
        "id": "fea7f9a6"
      },
      "outputs": [],
      "source": []
    },
    {
      "cell_type": "markdown",
      "id": "343c5a85",
      "metadata": {
        "id": "343c5a85"
      },
      "source": [
        "#### 53. How to convert a float (32 bits) array into an integer (32 bits) in place?"
      ]
    },
    {
      "cell_type": "code",
      "execution_count": null,
      "id": "fc1b687b",
      "metadata": {
        "id": "fc1b687b"
      },
      "outputs": [],
      "source": []
    },
    {
      "cell_type": "markdown",
      "id": "a69e1ace",
      "metadata": {
        "id": "a69e1ace"
      },
      "source": [
        "#### 54. How to read the following file? (★★☆)\n",
        "```\n",
        "1, 2, 3, 4, 5\n",
        "6,  ,  , 7, 8\n",
        " ,  , 9,10,11\n",
        "```"
      ]
    },
    {
      "cell_type": "code",
      "execution_count": null,
      "id": "1c7957d4",
      "metadata": {
        "id": "1c7957d4"
      },
      "outputs": [],
      "source": []
    },
    {
      "cell_type": "markdown",
      "id": "c23bd80d",
      "metadata": {
        "id": "c23bd80d"
      },
      "source": [
        "#### 55. What is the equivalent of enumerate for numpy arrays? (★★☆)"
      ]
    },
    {
      "cell_type": "code",
      "execution_count": null,
      "id": "d95d9578",
      "metadata": {
        "id": "d95d9578"
      },
      "outputs": [],
      "source": []
    },
    {
      "cell_type": "markdown",
      "id": "2153a5ec",
      "metadata": {
        "id": "2153a5ec"
      },
      "source": [
        "#### 56. Generate a generic 2D Gaussian-like array (★★☆)"
      ]
    },
    {
      "cell_type": "code",
      "execution_count": null,
      "id": "61122d1e",
      "metadata": {
        "id": "61122d1e"
      },
      "outputs": [],
      "source": []
    },
    {
      "cell_type": "markdown",
      "id": "2e76d589",
      "metadata": {
        "id": "2e76d589"
      },
      "source": [
        "#### 57. How to randomly place p elements in a 2D array? (★★☆)"
      ]
    },
    {
      "cell_type": "code",
      "execution_count": null,
      "id": "0c2e4fcc",
      "metadata": {
        "id": "0c2e4fcc"
      },
      "outputs": [],
      "source": []
    },
    {
      "cell_type": "markdown",
      "id": "8b3933eb",
      "metadata": {
        "id": "8b3933eb"
      },
      "source": [
        "#### 58. Subtract the mean of each row of a matrix (★★☆)"
      ]
    },
    {
      "cell_type": "code",
      "execution_count": null,
      "id": "a306c9ef",
      "metadata": {
        "id": "a306c9ef"
      },
      "outputs": [],
      "source": []
    },
    {
      "cell_type": "markdown",
      "id": "ea8807c0",
      "metadata": {
        "id": "ea8807c0"
      },
      "source": [
        "#### 59. How to sort an array by the nth column? (★★☆)"
      ]
    },
    {
      "cell_type": "code",
      "execution_count": null,
      "id": "cc89a699",
      "metadata": {
        "id": "cc89a699"
      },
      "outputs": [],
      "source": []
    },
    {
      "cell_type": "markdown",
      "id": "00fa00a1",
      "metadata": {
        "id": "00fa00a1"
      },
      "source": [
        "#### 60. How to tell if a given 2D array has null columns? (★★☆)"
      ]
    },
    {
      "cell_type": "code",
      "execution_count": null,
      "id": "3436e165",
      "metadata": {
        "id": "3436e165"
      },
      "outputs": [],
      "source": []
    },
    {
      "cell_type": "markdown",
      "id": "5a65c7a2",
      "metadata": {
        "id": "5a65c7a2"
      },
      "source": [
        "#### 61. Find the nearest value from a given value in an array (★★☆)"
      ]
    },
    {
      "cell_type": "code",
      "execution_count": null,
      "id": "73f149d6",
      "metadata": {
        "id": "73f149d6"
      },
      "outputs": [],
      "source": []
    },
    {
      "cell_type": "markdown",
      "id": "dd83e8af",
      "metadata": {
        "id": "dd83e8af"
      },
      "source": [
        "#### 62. Considering two arrays with shape (1,3) and (3,1), how to compute their sum using an iterator? (★★☆)"
      ]
    },
    {
      "cell_type": "code",
      "execution_count": null,
      "id": "29a709a1",
      "metadata": {
        "id": "29a709a1"
      },
      "outputs": [],
      "source": []
    },
    {
      "cell_type": "markdown",
      "id": "6c042efa",
      "metadata": {
        "id": "6c042efa"
      },
      "source": [
        "#### 63. Create an array class that has a name attribute (★★☆)"
      ]
    },
    {
      "cell_type": "code",
      "execution_count": null,
      "id": "45b3d2e0",
      "metadata": {
        "id": "45b3d2e0"
      },
      "outputs": [],
      "source": []
    },
    {
      "cell_type": "markdown",
      "id": "0a075c3d",
      "metadata": {
        "id": "0a075c3d"
      },
      "source": [
        "#### 64. Consider a given vector, how to add 1 to each element indexed by a second vector (be careful with repeated indices)? (★★★)"
      ]
    },
    {
      "cell_type": "code",
      "execution_count": null,
      "id": "36c50470",
      "metadata": {
        "id": "36c50470"
      },
      "outputs": [],
      "source": []
    },
    {
      "cell_type": "markdown",
      "id": "0fb2f0c5",
      "metadata": {
        "id": "0fb2f0c5"
      },
      "source": [
        "#### 65. How to accumulate elements of a vector (X) to an array (F) based on an index list (I)? (★★★)"
      ]
    },
    {
      "cell_type": "code",
      "execution_count": null,
      "id": "58aa5f82",
      "metadata": {
        "id": "58aa5f82"
      },
      "outputs": [],
      "source": []
    },
    {
      "cell_type": "markdown",
      "id": "d89dc506",
      "metadata": {
        "id": "d89dc506"
      },
      "source": [
        "#### 66. Considering a (w,h,3) image of (dtype=ubyte), compute the number of unique colors (★★☆)"
      ]
    },
    {
      "cell_type": "code",
      "execution_count": null,
      "id": "8fb43a49",
      "metadata": {
        "id": "8fb43a49"
      },
      "outputs": [],
      "source": []
    },
    {
      "cell_type": "markdown",
      "id": "535a5d81",
      "metadata": {
        "id": "535a5d81"
      },
      "source": [
        "#### 67. Considering a four dimensions array, how to get sum over the last two axis at once? (★★★)"
      ]
    },
    {
      "cell_type": "code",
      "execution_count": null,
      "id": "f954ab9d",
      "metadata": {
        "id": "f954ab9d"
      },
      "outputs": [],
      "source": []
    },
    {
      "cell_type": "markdown",
      "id": "eee66d3c",
      "metadata": {
        "id": "eee66d3c"
      },
      "source": [
        "#### 68. Considering a one-dimensional vector D, how to compute means of subsets of D using a vector S of same size describing subset  indices? (★★★)"
      ]
    },
    {
      "cell_type": "code",
      "execution_count": null,
      "id": "8929773a",
      "metadata": {
        "id": "8929773a"
      },
      "outputs": [],
      "source": []
    },
    {
      "cell_type": "markdown",
      "id": "f90d4c40",
      "metadata": {
        "id": "f90d4c40"
      },
      "source": [
        "#### 69. How to get the diagonal of a dot product? (★★★)"
      ]
    },
    {
      "cell_type": "code",
      "execution_count": null,
      "id": "b47d392d",
      "metadata": {
        "id": "b47d392d"
      },
      "outputs": [],
      "source": []
    },
    {
      "cell_type": "markdown",
      "id": "a8a97e7d",
      "metadata": {
        "id": "a8a97e7d"
      },
      "source": [
        "#### 70. Consider the vector [1, 2, 3, 4, 5], how to build a new vector with 3 consecutive zeros interleaved between each value? (★★★)"
      ]
    },
    {
      "cell_type": "code",
      "execution_count": null,
      "id": "ee6c6c37",
      "metadata": {
        "id": "ee6c6c37"
      },
      "outputs": [],
      "source": []
    },
    {
      "cell_type": "markdown",
      "id": "d6a30d60",
      "metadata": {
        "id": "d6a30d60"
      },
      "source": [
        "#### 71. Consider an array of dimension (5,5,3), how to mulitply it by an array with dimensions (5,5)? (★★★)"
      ]
    },
    {
      "cell_type": "code",
      "execution_count": null,
      "id": "e9703f2e",
      "metadata": {
        "id": "e9703f2e"
      },
      "outputs": [],
      "source": []
    },
    {
      "cell_type": "markdown",
      "id": "bac359a9",
      "metadata": {
        "id": "bac359a9"
      },
      "source": [
        "#### 72. How to swap two rows of an array? (★★★)"
      ]
    },
    {
      "cell_type": "code",
      "execution_count": null,
      "id": "f1b432b1",
      "metadata": {
        "id": "f1b432b1"
      },
      "outputs": [],
      "source": []
    },
    {
      "cell_type": "markdown",
      "id": "620c9f83",
      "metadata": {
        "id": "620c9f83"
      },
      "source": [
        "#### 73. Consider a set of 10 triplets describing 10 triangles (with shared vertices), find the set of unique line segments composing all the  triangles (★★★)"
      ]
    },
    {
      "cell_type": "code",
      "execution_count": null,
      "id": "4e595ffc",
      "metadata": {
        "id": "4e595ffc"
      },
      "outputs": [],
      "source": []
    },
    {
      "cell_type": "markdown",
      "id": "a76c55a2",
      "metadata": {
        "id": "a76c55a2"
      },
      "source": [
        "#### 74. Given a sorted array C that corresponds to a bincount, how to produce an array A such that np.bincount(A) == C? (★★★)"
      ]
    },
    {
      "cell_type": "code",
      "execution_count": null,
      "id": "2d2ae65a",
      "metadata": {
        "id": "2d2ae65a"
      },
      "outputs": [],
      "source": []
    },
    {
      "cell_type": "markdown",
      "id": "d550c8e2",
      "metadata": {
        "id": "d550c8e2"
      },
      "source": [
        "#### 75. How to compute averages using a sliding window over an array? (★★★)"
      ]
    },
    {
      "cell_type": "code",
      "execution_count": null,
      "id": "841c457c",
      "metadata": {
        "id": "841c457c"
      },
      "outputs": [],
      "source": []
    },
    {
      "cell_type": "markdown",
      "id": "6b170b00",
      "metadata": {
        "id": "6b170b00"
      },
      "source": [
        "#### 76. Consider a one-dimensional array Z, build a two-dimensional array whose first row is (Z[0],Z[1],Z[2]) and each subsequent row is  shifted by 1 (last row should be (Z[-3],Z[-2],Z[-1]) (★★★)"
      ]
    },
    {
      "cell_type": "code",
      "execution_count": null,
      "id": "d9a0cf4e",
      "metadata": {
        "id": "d9a0cf4e"
      },
      "outputs": [],
      "source": []
    },
    {
      "cell_type": "markdown",
      "id": "e94a5c1d",
      "metadata": {
        "id": "e94a5c1d"
      },
      "source": [
        "#### 77. How to negate a boolean, or to change the sign of a float inplace? (★★★)"
      ]
    },
    {
      "cell_type": "code",
      "execution_count": null,
      "id": "c0f9504f",
      "metadata": {
        "id": "c0f9504f"
      },
      "outputs": [],
      "source": []
    },
    {
      "cell_type": "markdown",
      "id": "4eb8b5c1",
      "metadata": {
        "id": "4eb8b5c1"
      },
      "source": [
        "#### 78. Consider 2 sets of points P0,P1 describing lines (2d) and a point p, how to compute distance from p to each line i (P0[i],P1[i])? (★★★)"
      ]
    },
    {
      "cell_type": "code",
      "execution_count": null,
      "id": "487f47ec",
      "metadata": {
        "id": "487f47ec"
      },
      "outputs": [],
      "source": []
    },
    {
      "cell_type": "markdown",
      "id": "3df99948",
      "metadata": {
        "id": "3df99948"
      },
      "source": [
        "#### 79. Consider 2 sets of points P0,P1 describing lines (2d) and a set of points P, how to compute distance from each point j (P[j]) to each line i (P0[i],P1[i])? (★★★)"
      ]
    },
    {
      "cell_type": "code",
      "execution_count": null,
      "id": "dc2df37b",
      "metadata": {
        "id": "dc2df37b"
      },
      "outputs": [],
      "source": []
    },
    {
      "cell_type": "markdown",
      "id": "11e972c2",
      "metadata": {
        "id": "11e972c2"
      },
      "source": [
        "#### 80. Consider an arbitrary array, write a function that extract a subpart with a fixed shape and centered on a given element (pad with a `fill` value when necessary) (★★★)"
      ]
    },
    {
      "cell_type": "code",
      "execution_count": null,
      "id": "0291247f",
      "metadata": {
        "id": "0291247f"
      },
      "outputs": [],
      "source": []
    },
    {
      "cell_type": "markdown",
      "id": "93cfeab3",
      "metadata": {
        "id": "93cfeab3"
      },
      "source": [
        "#### 81. Consider an array Z = [1,2,3,4,5,6,7,8,9,10,11,12,13,14], how to generate an array R = [[1,2,3,4], [2,3,4,5], [3,4,5,6], ..., [11,12,13,14]]? (★★★)"
      ]
    },
    {
      "cell_type": "code",
      "execution_count": null,
      "id": "360de791",
      "metadata": {
        "id": "360de791"
      },
      "outputs": [],
      "source": []
    },
    {
      "cell_type": "markdown",
      "id": "4c15ceff",
      "metadata": {
        "id": "4c15ceff"
      },
      "source": [
        "#### 82. Compute a matrix rank (★★★)"
      ]
    },
    {
      "cell_type": "code",
      "execution_count": null,
      "id": "9a4272d2",
      "metadata": {
        "id": "9a4272d2"
      },
      "outputs": [],
      "source": []
    },
    {
      "cell_type": "markdown",
      "id": "1171cb84",
      "metadata": {
        "id": "1171cb84"
      },
      "source": [
        "#### 83. How to find the most frequent value in an array?"
      ]
    },
    {
      "cell_type": "code",
      "execution_count": null,
      "id": "33e951c8",
      "metadata": {
        "id": "33e951c8"
      },
      "outputs": [],
      "source": []
    },
    {
      "cell_type": "markdown",
      "id": "04f472aa",
      "metadata": {
        "id": "04f472aa"
      },
      "source": [
        "#### 84. Extract all the contiguous 3x3 blocks from a random 10x10 matrix (★★★)"
      ]
    },
    {
      "cell_type": "code",
      "execution_count": null,
      "id": "7aade14a",
      "metadata": {
        "id": "7aade14a"
      },
      "outputs": [],
      "source": []
    },
    {
      "cell_type": "markdown",
      "id": "52836346",
      "metadata": {
        "id": "52836346"
      },
      "source": [
        "#### 85. Create a 2D array subclass such that Z[i,j] == Z[j,i] (★★★)"
      ]
    },
    {
      "cell_type": "code",
      "execution_count": null,
      "id": "4df70318",
      "metadata": {
        "id": "4df70318"
      },
      "outputs": [],
      "source": []
    },
    {
      "cell_type": "markdown",
      "id": "78c43ee5",
      "metadata": {
        "id": "78c43ee5"
      },
      "source": [
        "#### 86. Consider a set of p matrices with shape (n,n) and a set of p vectors with shape (n,1). How to compute the sum of of the p matrix products at once? (result has shape (n,1)) (★★★)"
      ]
    },
    {
      "cell_type": "code",
      "execution_count": null,
      "id": "32fd2c3b",
      "metadata": {
        "id": "32fd2c3b"
      },
      "outputs": [],
      "source": []
    },
    {
      "cell_type": "markdown",
      "id": "158f9945",
      "metadata": {
        "id": "158f9945"
      },
      "source": [
        "#### 87. Consider a 16x16 array, how to get the block-sum (block size is 4x4)? (★★★)"
      ]
    },
    {
      "cell_type": "code",
      "execution_count": null,
      "id": "5a9b808f",
      "metadata": {
        "id": "5a9b808f"
      },
      "outputs": [],
      "source": []
    },
    {
      "cell_type": "markdown",
      "id": "2e0ad860",
      "metadata": {
        "id": "2e0ad860"
      },
      "source": [
        "#### 88. How to implement the Game of Life using numpy arrays? (★★★)"
      ]
    },
    {
      "cell_type": "code",
      "execution_count": null,
      "id": "574acff5",
      "metadata": {
        "id": "574acff5"
      },
      "outputs": [],
      "source": []
    },
    {
      "cell_type": "markdown",
      "id": "69a892fa",
      "metadata": {
        "id": "69a892fa"
      },
      "source": [
        "#### 89. How to get the n largest values of an array (★★★)"
      ]
    },
    {
      "cell_type": "code",
      "execution_count": null,
      "id": "21b2bd48",
      "metadata": {
        "id": "21b2bd48"
      },
      "outputs": [],
      "source": []
    },
    {
      "cell_type": "markdown",
      "id": "b55ccacc",
      "metadata": {
        "id": "b55ccacc"
      },
      "source": [
        "#### 90. Given an arbitrary number of vectors, build the cartesian product (every combinations of every item) (★★★)"
      ]
    },
    {
      "cell_type": "code",
      "execution_count": null,
      "id": "4b645da4",
      "metadata": {
        "id": "4b645da4"
      },
      "outputs": [],
      "source": []
    },
    {
      "cell_type": "markdown",
      "id": "89187a23",
      "metadata": {
        "id": "89187a23"
      },
      "source": [
        "#### 91. How to create a record array from a regular array? (★★★)"
      ]
    },
    {
      "cell_type": "code",
      "execution_count": null,
      "id": "da94c71a",
      "metadata": {
        "id": "da94c71a"
      },
      "outputs": [],
      "source": []
    },
    {
      "cell_type": "markdown",
      "id": "aa70d4ca",
      "metadata": {
        "id": "aa70d4ca"
      },
      "source": [
        "#### 92. Consider a large vector Z, compute Z to the power of 3 using 3 different methods (★★★)"
      ]
    },
    {
      "cell_type": "code",
      "execution_count": null,
      "id": "7cff1bf5",
      "metadata": {
        "id": "7cff1bf5"
      },
      "outputs": [],
      "source": []
    },
    {
      "cell_type": "markdown",
      "id": "5f79dd00",
      "metadata": {
        "id": "5f79dd00"
      },
      "source": [
        "#### 93. Consider two arrays A and B of shape (8,3) and (2,2). How to find rows of A that contain elements of each row of B regardless of the order of the elements in B? (★★★)"
      ]
    },
    {
      "cell_type": "code",
      "execution_count": null,
      "id": "20c105b2",
      "metadata": {
        "id": "20c105b2"
      },
      "outputs": [],
      "source": []
    },
    {
      "cell_type": "markdown",
      "id": "a80570cd",
      "metadata": {
        "id": "a80570cd"
      },
      "source": [
        "#### 94. Considering a 10x3 matrix, extract rows with unequal values (e.g. [2,2,3]) (★★★)"
      ]
    },
    {
      "cell_type": "code",
      "execution_count": null,
      "id": "84db8de1",
      "metadata": {
        "id": "84db8de1"
      },
      "outputs": [],
      "source": []
    },
    {
      "cell_type": "markdown",
      "id": "ba154f43",
      "metadata": {
        "id": "ba154f43"
      },
      "source": [
        "#### 95. Convert a vector of ints into a matrix binary representation (★★★)"
      ]
    },
    {
      "cell_type": "code",
      "execution_count": null,
      "id": "cfa96e1b",
      "metadata": {
        "id": "cfa96e1b"
      },
      "outputs": [],
      "source": []
    },
    {
      "cell_type": "markdown",
      "id": "420e2343",
      "metadata": {
        "id": "420e2343"
      },
      "source": [
        "#### 96. Given a two dimensional array, how to extract unique rows? (★★★)"
      ]
    },
    {
      "cell_type": "code",
      "execution_count": null,
      "id": "4680dfd0",
      "metadata": {
        "id": "4680dfd0"
      },
      "outputs": [],
      "source": []
    },
    {
      "cell_type": "markdown",
      "id": "89fef2f3",
      "metadata": {
        "id": "89fef2f3"
      },
      "source": [
        "#### 97. Considering 2 vectors A & B, write the einsum equivalent of inner, outer, sum, and mul function (★★★)"
      ]
    },
    {
      "cell_type": "code",
      "execution_count": null,
      "id": "bb9c14b2",
      "metadata": {
        "id": "bb9c14b2"
      },
      "outputs": [],
      "source": []
    },
    {
      "cell_type": "markdown",
      "id": "7ad5cc5f",
      "metadata": {
        "id": "7ad5cc5f"
      },
      "source": [
        "#### 98. Considering a path described by two vectors (X,Y), how to sample it using equidistant samples (★★★)?"
      ]
    },
    {
      "cell_type": "code",
      "execution_count": null,
      "id": "0899d1d5",
      "metadata": {
        "id": "0899d1d5"
      },
      "outputs": [],
      "source": []
    },
    {
      "cell_type": "markdown",
      "id": "2b69272e",
      "metadata": {
        "id": "2b69272e"
      },
      "source": [
        "#### 99. Given an integer n and a 2D array X, select from X the rows which can be interpreted as draws from a multinomial distribution with n degrees, i.e., the rows which only contain integers and which sum to n. (★★★)"
      ]
    },
    {
      "cell_type": "code",
      "execution_count": null,
      "id": "55c8b034",
      "metadata": {
        "id": "55c8b034"
      },
      "outputs": [],
      "source": []
    },
    {
      "cell_type": "markdown",
      "id": "59ab5516",
      "metadata": {
        "id": "59ab5516"
      },
      "source": [
        "#### 100. Compute bootstrapped 95% confidence intervals for the mean of a 1D array X (i.e., resample the elements of an array with replacement N times, compute the mean of each sample, and then compute percentiles over the means). (★★★)"
      ]
    },
    {
      "cell_type": "code",
      "execution_count": null,
      "id": "450877d8",
      "metadata": {
        "id": "450877d8"
      },
      "outputs": [],
      "source": []
    }
  ],
  "metadata": {
    "colab": {
      "provenance": [],
      "collapsed_sections": [
        "3c1222ff",
        "9d9f4753",
        "3e4c23c6",
        "c38bbe82",
        "67f893d4",
        "e0c739c6",
        "fbebedab",
        "ad0bff02",
        "9f59d7e1",
        "f374c4cf",
        "9c4707f5",
        "3bac294a",
        "466c2989",
        "53a8edb2",
        "cbaad31c",
        "c5ecc267",
        "ef909b72",
        "502738ac",
        "a65da660",
        "9f7f9c49",
        "66bfda35",
        "d5bcfc08",
        "f9a0911e",
        "654805b1",
        "994c25df"
      ],
      "include_colab_link": true
    },
    "language_info": {
      "name": "python"
    },
    "kernelspec": {
      "name": "python3",
      "display_name": "Python 3"
    }
  },
  "nbformat": 4,
  "nbformat_minor": 5
}